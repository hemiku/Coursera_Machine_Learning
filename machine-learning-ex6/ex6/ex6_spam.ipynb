{
 "cells": [
  {
   "cell_type": "code",
   "execution_count": 8,
   "metadata": {},
   "outputs": [],
   "source": [
    "import numpy as np\n",
    "import re"
   ]
  },
  {
   "cell_type": "code",
   "execution_count": 7,
   "metadata": {
    "tags": []
   },
   "outputs": [
    {
     "output_type": "stream",
     "name": "stdout",
     "text": "dataset3Params.m  gaussianKernel.m   spamTrain.mat\nemailFeatures.m   getVocabList.m     submit.m\nemailSample1.txt  lib\t\t     svmPredict.m\nemailSample2.txt  linearKernel.m     svmTrain.m\nex6data1.mat\t  octave-workspace   token.mat\nex6data2.mat\t  plotData.m\t     untitled2.ofig\nex6data3.mat\t  porterStemmer.m    untitled3.ofig\nex6.ipynb\t  processEmail.m     untitled.ofig\nex6.m\t\t  readFile.m\t     visualizeBoundaryLinear.m\nex6_spam.ipynb\t  sigma2gamma.ipynb  visualizeBoundary.m\nex6_spam.m\t  spamSample1.txt    vocab.txt\nex6_spam_old.py   spamSample2.txt\nex6_spam.py\t  spamTest.mat\n"
    }
   ],
   "source": [
    "!ls"
   ]
  },
  {
   "cell_type": "code",
   "execution_count": 6,
   "metadata": {},
   "outputs": [
    {
     "output_type": "error",
     "ename": "NameError",
     "evalue": "name 'file_contents' is not defined",
     "traceback": [
      "\u001b[0;31m---------------------------------------------------------------------------\u001b[0m",
      "\u001b[0;31mNameError\u001b[0m                                 Traceback (most recent call last)",
      "\u001b[0;32m<ipython-input-6-bfdaf289d525>\u001b[0m in \u001b[0;36m<module>\u001b[0;34m\u001b[0m\n\u001b[0;32m----> 1\u001b[0;31m \u001b[0mprint\u001b[0m\u001b[0;34m(\u001b[0m\u001b[0mfile_contents\u001b[0m\u001b[0;34m)\u001b[0m\u001b[0;34m\u001b[0m\u001b[0;34m\u001b[0m\u001b[0m\n\u001b[0m",
      "\u001b[0;31mNameError\u001b[0m: name 'file_contents' is not defined"
     ]
    }
   ],
   "source": [
    "print(file_contents)"
   ]
  },
  {
   "cell_type": "code",
   "execution_count": 4,
   "metadata": {},
   "outputs": [],
   "source": [
    "def getVocabList():\n",
    "    \n",
    "    f = open('vocab.txt', 'r')\n",
    "    file_content = f.read()\n",
    "    f.close()\n",
    "    \n",
    "    vocabList = {}\n",
    "    \n",
    "    file_content_split = file_content.splitlines()\n",
    "    \n",
    "    for line in file_content_split:\n",
    "    \n",
    "        vocabList[line.split()[1]] = int(line.split()[0])\n",
    "    \n",
    "    return vocabList\n",
    "    \n",
    "def porterStemmer(inString):\n",
    "        \n",
    "    if inString[-1] in [ 's',  'e'] :\n",
    "        \n",
    "        inString = inString[:-1]\n",
    "    \n",
    "    return inString\n",
    "    \n",
    "def emailFeatures(word_indices):\n",
    "    \n",
    "    n = 1899\n",
    "    \n",
    "    x = np.zeros(n)\n",
    "    \n",
    "    x[word_indices] = 1\n",
    "    \n",
    "    return x"
   ]
  },
  {
   "cell_type": "code",
   "execution_count": 96,
   "metadata": {},
   "outputs": [
    {
     "data": {
      "text/plain": [
       "array([0., 1., 0., ..., 0., 0., 0.])"
      ]
     },
     "execution_count": 96,
     "metadata": {},
     "output_type": "execute_result"
    }
   ],
   "source": [
    "emailFeatures(1)"
   ]
  },
  {
   "cell_type": "code",
   "execution_count": 97,
   "metadata": {},
   "outputs": [],
   "source": [
    "vocabList = getVocabList()"
   ]
  },
  {
   "cell_type": "code",
   "execution_count": 98,
   "metadata": {},
   "outputs": [
    {
     "data": {
      "text/plain": [
       "159"
      ]
     },
     "execution_count": 98,
     "metadata": {},
     "output_type": "execute_result"
    }
   ],
   "source": [
    "vocabList['bb']"
   ]
  },
  {
   "cell_type": "code",
   "execution_count": 99,
   "metadata": {},
   "outputs": [],
   "source": [
    "def processEmail(email_contents):\n",
    "    \n",
    "    word_indices_list = []\n",
    "    \n",
    "    vocabList = getVocabList()\n",
    "    #print(vocabList)\n",
    "    email_contents_process = re.sub( '<[^<>]+>', ' ', email_contents)\n",
    "    email_contents_process  = re.sub( '[0-9]+', 'number', email_contents_process )\n",
    "    email_contents_process  = re.sub( '(http|https)://[^\\s]*', 'httpaddr', email_contents_process )\n",
    "    email_contents_process  = re.sub( '[^\\s]+@[^\\s]+', 'emailaddr', email_contents_process )\n",
    "    email_contents_process  = re.sub( '[$]+', 'dollar', email_contents_process )\n",
    "    for i in '@$/#.-:&*+=[]?!(){},''\">_<;%':\n",
    "        email_contents_process  = email_contents_process .replace( i , ' ')\n",
    "    email_contents_split =  email_contents_process.split()\n",
    "    \n",
    "    for word in  email_contents_split:\n",
    "        if len(word) > 1:  \n",
    "            try:\n",
    "                word_indices_list.append(  vocabList[porterStemmer(word.lower())] )\n",
    "            except:\n",
    "                _\n",
    "\n",
    "    word_indices = np.array(word_indices_list)\n",
    "    \n",
    "    return word_indices"
   ]
  },
  {
   "cell_type": "code",
   "execution_count": 100,
   "metadata": {},
   "outputs": [
    {
     "data": {
      "text/plain": [
       "\"> Anyone knows how much it costs to host a web portal ?\\n>\\nWell, it depends on how many visitors you're expecting.\\nThis can be anywhere from less than 10 bucks a month to a couple of $100. \\nYou should checkout http://www.rackspace.com/ or perhaps Amazon EC2 \\nif youre running something big..\\n\\nTo unsubscribe yourself from this mailing list, send an email to:\\ngroupname-unsubscribe@egroups.com\\n\\n\""
      ]
     },
     "execution_count": 100,
     "metadata": {},
     "output_type": "execute_result"
    }
   ],
   "source": [
    "file_contents"
   ]
  },
  {
   "cell_type": "code",
   "execution_count": 101,
   "metadata": {},
   "outputs": [],
   "source": [
    "word_indices = processEmail(file_contents)\n",
    "features = emailFeatures(word_indices)"
   ]
  },
  {
   "cell_type": "code",
   "execution_count": null,
   "metadata": {},
   "outputs": [],
   "source": []
  },
  {
   "cell_type": "code",
   "execution_count": 103,
   "metadata": {},
   "outputs": [
    {
     "name": "stdout",
     "output_type": "stream",
     "text": [
      "Length of feature vector: 1899\n",
      "Number of non-zero entries: 36\n"
     ]
    }
   ],
   "source": [
    "print(f'Length of feature vector: { np.shape(features)[0] }' )\n",
    "print(f'Number of non-zero entries: { np.sum(features > 0) }') "
   ]
  },
  {
   "cell_type": "code",
   "execution_count": null,
   "metadata": {},
   "outputs": [],
   "source": [
    "%%time\n",
    "word_indices = processEmail(file_contents)"
   ]
  },
  {
   "cell_type": "code",
   "execution_count": 108,
   "metadata": {},
   "outputs": [],
   "source": [
    "vocabList = getVocabList()"
   ]
  },
  {
   "cell_type": "code",
   "execution_count": 183,
   "metadata": {},
   "outputs": [],
   "source": [
    "word = 'anyon'\n",
    "word_indices_list = []"
   ]
  },
  {
   "cell_type": "code",
   "execution_count": 184,
   "metadata": {},
   "outputs": [
    {
     "name": "stdout",
     "output_type": "stream",
     "text": [
      "271 ns ± 2.79 ns per loop (mean ± std. dev. of 7 runs, 1000000 loops each)\n"
     ]
    }
   ],
   "source": [
    "%%timeit\n",
    "try:\n",
    "    word_indices_list.append(  vocabList[porterStemmer(word.lower())] )\n",
    "except:\n",
    "    _"
   ]
  },
  {
   "cell_type": "code",
   "execution_count": 185,
   "metadata": {},
   "outputs": [],
   "source": [
    "word = 'anyon'\n",
    "word_indices_list = []"
   ]
  },
  {
   "cell_type": "code",
   "execution_count": 186,
   "metadata": {},
   "outputs": [
    {
     "name": "stdout",
     "output_type": "stream",
     "text": [
      "528 ns ± 1.63 ns per loop (mean ± std. dev. of 7 runs, 1000000 loops each)\n"
     ]
    }
   ],
   "source": [
    "%%timeit\n",
    "if porterStemmer(word.lower()) in vocabList.keys():\n",
    "    word_indices_list.append(  vocabList[porterStemmer(word.lower())] )"
   ]
  },
  {
   "cell_type": "code",
   "execution_count": 187,
   "metadata": {},
   "outputs": [],
   "source": [
    "word = 'portal'\n",
    "word_indices_list = []"
   ]
  },
  {
   "cell_type": "code",
   "execution_count": 188,
   "metadata": {},
   "outputs": [
    {
     "name": "stdout",
     "output_type": "stream",
     "text": [
      "388 ns ± 4.02 ns per loop (mean ± std. dev. of 7 runs, 1000000 loops each)\n"
     ]
    }
   ],
   "source": [
    "%%timeit\n",
    "try:\n",
    "    word_indices_list.append(  vocabList[porterStemmer(word.lower())] )\n",
    "except:\n",
    "    _"
   ]
  },
  {
   "cell_type": "code",
   "execution_count": 189,
   "metadata": {},
   "outputs": [],
   "source": [
    "word = 'portal'\n",
    "word_indices_list = []"
   ]
  },
  {
   "cell_type": "code",
   "execution_count": 190,
   "metadata": {},
   "outputs": [
    {
     "name": "stdout",
     "output_type": "stream",
     "text": [
      "255 ns ± 4.47 ns per loop (mean ± std. dev. of 7 runs, 1000000 loops each)\n"
     ]
    }
   ],
   "source": [
    "%%timeit\n",
    "if porterStemmer(word.lower()) in vocabList.keys():\n",
    "    word_indices_list.append(  vocabList[porterStemmer(word.lower())] )"
   ]
  },
  {
   "cell_type": "code",
   "execution_count": null,
   "metadata": {},
   "outputs": [],
   "source": []
  },
  {
   "cell_type": "code",
   "execution_count": null,
   "metadata": {},
   "outputs": [],
   "source": []
  },
  {
   "cell_type": "code",
   "execution_count": null,
   "metadata": {},
   "outputs": [],
   "source": []
  }
 ],
 "metadata": {
  "kernelspec": {
   "display_name": "Python 3",
   "language": "python",
   "name": "python3"
  },
  "language_info": {
   "codemirror_mode": {
    "name": "ipython",
    "version": 3
   },
   "file_extension": ".py",
   "mimetype": "text/x-python",
   "name": "python",
   "nbconvert_exporter": "python",
   "pygments_lexer": "ipython3",
   "version": "3.7.6"
  }
 },
 "nbformat": 4,
 "nbformat_minor": 4
}