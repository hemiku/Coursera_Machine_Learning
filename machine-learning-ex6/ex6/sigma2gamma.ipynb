{
 "cells": [
  {
   "cell_type": "markdown",
   "metadata": {},
   "source": [
    "https://scikit-learn.org/stable/modules/svm.html#svm-kernels"
   ]
  },
  {
   "cell_type": "markdown",
   "metadata": {},
   "source": [
    "comparing scikit gasussian kernel with kernel with cours gaussian kernel"
   ]
  },
  {
   "cell_type": "markdown",
   "metadata": {},
   "source": [
    "K_scikit = $\\exp(-\\gamma \\|x-x'\\|^2)$\n",
    "\n",
    "K_cours  = $\\exp(- \\frac{ \\|x-x'\\|^2}{2\\sigma^2})$\n",
    "\n",
    "K_scikit = K_cours \n",
    "\n",
    " $\\exp(-\\gamma \\|x-x'\\|^2)$ =  $\\exp(- \\frac{ \\|x-x'\\|^2}{2\\sigma^2})$\n",
    " \n",
    " -\\gamma \\|x-x'\\|^2 = - \\frac{ \\|x-x'\\|^2}{2\\sigma^2}"
   ]
  },
  {
   "cell_type": "markdown",
   "metadata": {},
   "source": [
    " $-\\gamma \\|x-x'\\|^2 = - \\frac{ \\|x-x'\\|^2}{2\\sigma^2}$"
   ]
  },
  {
   "cell_type": "markdown",
   "metadata": {},
   "source": [
    " $\\gamma =  \\frac{ 1 }{2\\sigma^2}$"
   ]
  },
  {
   "cell_type": "code",
   "execution_count": null,
   "metadata": {},
   "outputs": [],
   "source": []
  }
 ],
 "metadata": {
  "kernelspec": {
   "display_name": "Python 3",
   "language": "python",
   "name": "python3"
  },
  "language_info": {
   "codemirror_mode": {
    "name": "ipython",
    "version": 3
   },
   "file_extension": ".py",
   "mimetype": "text/x-python",
   "name": "python",
   "nbconvert_exporter": "python",
   "pygments_lexer": "ipython3",
   "version": "3.7.6"
  }
 },
 "nbformat": 4,
 "nbformat_minor": 4
}
