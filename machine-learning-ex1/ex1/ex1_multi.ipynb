{
 "cells": [
  {
   "cell_type": "code",
   "execution_count": 2,
   "metadata": {},
   "outputs": [],
   "source": [
    "import plotly.graph_objects as go\n",
    "import numpy as np\n",
    "\n",
    "import matplotlib.pyplot as plt"
   ]
  },
  {
   "cell_type": "code",
   "execution_count": 3,
   "metadata": {},
   "outputs": [
    {
     "data": {
      "text/html": [
       "        <script type=\"text/javascript\">\n",
       "        window.PlotlyConfig = {MathJaxConfig: 'local'};\n",
       "        if (window.MathJax) {MathJax.Hub.Config({SVG: {font: \"STIX-Web\"}});}\n",
       "        if (typeof require !== 'undefined') {\n",
       "        require.undef(\"plotly\");\n",
       "        requirejs.config({\n",
       "            paths: {\n",
       "                'plotly': ['https://cdn.plot.ly/plotly-latest.min']\n",
       "            }\n",
       "        });\n",
       "        require(['plotly'], function(Plotly) {\n",
       "            window._Plotly = Plotly;\n",
       "        });\n",
       "        }\n",
       "        </script>\n",
       "        "
      ]
     },
     "metadata": {},
     "output_type": "display_data"
    }
   ],
   "source": [
    "import plotly\n",
    "plotly.offline.init_notebook_mode(connected=True)"
   ]
  },
  {
   "cell_type": "code",
   "execution_count": 4,
   "metadata": {},
   "outputs": [],
   "source": [
    "from matplotlib import interactive\n",
    "interactive(True)\n"
   ]
  },
  {
   "cell_type": "markdown",
   "metadata": {},
   "source": [
    "Implementation of normal equation $\\theta =(X^T X )^{-1} X^T \\vec{y}$"
   ]
  },
  {
   "cell_type": "code",
   "execution_count": 24,
   "metadata": {},
   "outputs": [],
   "source": [
    "def normalEqn(X, y ):\n",
    "    \n",
    "    theta  = np.dot(np.dot(np.linalg.inv( np.dot(np.transpose(X),X) ) , np.transpose(X)  ),y)\n",
    "    \n",
    "    return theta"
   ]
  },
  {
   "cell_type": "code",
   "execution_count": 141,
   "metadata": {},
   "outputs": [],
   "source": [
    "def gradientDescent_simple(X, y, theta, alpha, num_iters):\n",
    "    print \n",
    "    m = np.shape(X)[0]\n",
    "    J_history = np.zeros(num_iters, dtype=np.float64)\n",
    "    theta_history = np.zeros([num_iters, np.shape(theta)[0] ], dtype=np.float64)\n",
    "\n",
    "    for i in range(num_iters):\n",
    "        J_history[i] = computeCost(X =X, y=y, theta=theta)\n",
    "        theta_history[i] = theta\n",
    "        theta = theta - ( (alpha/ m )  ) * np.dot( (np.dot(X, theta) -y), X) \n",
    "    \n",
    "    return theta, J_history, theta_history"
   ]
  },
  {
   "cell_type": "code",
   "execution_count": 10,
   "metadata": {},
   "outputs": [],
   "source": [
    "def computeCost(X, y, theta):\n",
    "    \n",
    "    m = np.shape(X)[0]\n",
    "\n",
    "    J =  1.0/(2*m)   * np.sum( (np.dot(X, theta) -y)**2 )  \n",
    "    \n",
    "    return J "
   ]
  },
  {
   "cell_type": "code",
   "execution_count": 129,
   "metadata": {},
   "outputs": [],
   "source": [
    "def featureNormalize( X ):\n",
    "    \n",
    "#    there is difference in implementation of std function in octave and numpy  \n",
    "#    octave implementaion https://octave.sourceforge.io/octave/function/std.html\n",
    "#    numpy implementaion https://numpy.org/doc/1.18/reference/generated/numpy.std.html\n",
    "#    to have same result in both implementation we nead to use flag ddof=1\n",
    "\n",
    "\n",
    "    mu = np.mean(X,axis=0)\n",
    "    sigma = np.std(X, axis=0, ddof=1 )\n",
    "    \n",
    "    normalized_X = ( X - mu )/sigma\n",
    "    \n",
    "    return normalized_X, mu, sigma\n",
    "    "
   ]
  },
  {
   "cell_type": "code",
   "execution_count": 134,
   "metadata": {},
   "outputs": [],
   "source": [
    "data = np.loadtxt(fname='ex1data2.txt', delimiter=',')\n"
   ]
  },
  {
   "cell_type": "code",
   "execution_count": 143,
   "metadata": {},
   "outputs": [],
   "source": [
    "x = np.copy(data[:,:-1])\n",
    "y = np.copy(data[:,-1])\n",
    "m = np.shape(x)[0]"
   ]
  },
  {
   "cell_type": "markdown",
   "metadata": {},
   "source": [
    "# Solving with gradient descent"
   ]
  },
  {
   "cell_type": "code",
   "execution_count": 144,
   "metadata": {},
   "outputs": [],
   "source": [
    "x, mu, sigma =featureNormalize( x )"
   ]
  },
  {
   "cell_type": "code",
   "execution_count": 145,
   "metadata": {},
   "outputs": [],
   "source": [
    "theta = np.zeros([np.shape(x)[1]+1])"
   ]
  },
  {
   "cell_type": "code",
   "execution_count": 146,
   "metadata": {},
   "outputs": [
    {
     "data": {
      "text/plain": [
       "array([[ 1.        ,  0.13000987, -0.22367519],\n",
       "       [ 1.        , -0.50418984, -0.22367519],\n",
       "       [ 1.        ,  0.50247636, -0.22367519],\n",
       "       [ 1.        , -0.73572306, -1.53776691],\n",
       "       [ 1.        ,  1.25747602,  1.09041654]])"
      ]
     },
     "execution_count": 146,
     "metadata": {},
     "output_type": "execute_result"
    }
   ],
   "source": [
    "X = np.ones([m,np.shape(x)[1]+1])\n",
    "X[:,1:] = x\n",
    "X[:5]"
   ]
  },
  {
   "cell_type": "code",
   "execution_count": 147,
   "metadata": {},
   "outputs": [
    {
     "name": "stdout",
     "output_type": "stream",
     "text": [
      "[0. 0. 0.]\n",
      "[334302.06399328 100087.11600585   3673.54845093]\n"
     ]
    }
   ],
   "source": [
    "\n",
    "iterations = 400\n",
    "alpha = 0.01\n",
    "\n",
    "theta, J_history, theta_history = gradientDescent_simple(X=X, y=y , theta=theta, alpha=alpha, num_iters=iterations )\n",
    "print(theta)\n"
   ]
  },
  {
   "cell_type": "code",
   "execution_count": 149,
   "metadata": {},
   "outputs": [
    {
     "data": {
      "image/png": "[encoded data removed]",
      "text/plain": [
       "<Figure size 720x720 with 1 Axes>"
      ]
     },
     "metadata": {
      "needs_background": "light"
     },
     "output_type": "display_data"
    }
   ],
   "source": [
    "fig, ax = plt.subplots( figsize=(10,10) )\n",
    "\n",
    "ax.grid(True, linestyle='-.')\n",
    "\n",
    "ax.plot(J_history, '-' )\n",
    "\n",
    "ax.set_xlabel(\"Number of iterations\")\n",
    "ax.set_ylabel(\"Cost J\")\n",
    "\n",
    "plt.show()"
   ]
  },
  {
   "cell_type": "code",
   "execution_count": 152,
   "metadata": {},
   "outputs": [
    {
     "data": {
      "application/vnd.plotly.v1+json": {
       "config": {
        "plotlyServerURL": "https://plot.ly"
       },
       "data": [
        {
         "mode": "lines",
         "type": "scatter",
         "y": [
          65591548106.45744,
          64300749594.56597,
          63036794964.819695,
          61799111840.65743,
          60587140419.70562,
          59400333187.44639,
          58238154637.67972,
          57100080999.61124,
          55985599971.40147,
          54894210460.01703,
          53825422327.22772,
          52778756141.59795,
          51753742936.32477,
          50749923972.77846,
          49766850509.605644,
          48804083577.2577,
          47861193757.81185,
          46937760969.95513,
          46033374259.004395,
          45147631591.83965,
          44280139656.630394,
          43430513667.238045,
          42598377172.180504,
          41783361868.047745,
          40985107417.260056,
          40203261270.06358,
          39437478490.660255,
          38687421587.37179,
          37952760346.74029,
          37233171671.4699,
          36528339422.11712,
          35837954262.43886,
          35161713508.31038,
          34499320980.12704,
          33850486858.606007,
          33214927543.906292,
          32592365517.987434,
          31982529210.129135,
          31385152865.53635,
          30799976416.95573,
          30226745359.231636,
          29665210626.731564,
          29115128473.572483,
          28576260356.581406,
          28048372820.925133,
          27531237388.34581,
          27024630447.940327,
          26528333149.423252,
          26042131298.81458,
          25565815256.494778,
          25099179837.571243,
          24642024214.501625,
          24194151821.920673,
          23755370263.61888,
          23325491221.622005,
          22904330367.322403,
          22491707274.613747,
          22087445334.982155,
          21691371674.50808,
          21303317072.73393,
          20923115883.354034,
          20550605956.68429,
          20185628563.86995,
          19828028322.79102,
          19477653125.625816,
          19134354068.03403,
          18797985379.921722,
          18468404357.751408,
          18145471298.361637,
          17829049434.260822,
          17519004870.361404,
          17215206522.12098,
          16917526055.05784,
          16625837825.609407,
          16340018823.302347,
          16059948614.204391,
          15785509285.62826,
          15516585392.058973,
          15253063902.276438,
          14994834147.64594,
          14741787771.549706,
          14493818679.933552,
          14250822992.942993,
          14012698997.624037,
          13779347101.664267,
          13550669788.150599,
          13326571571.320534,
          13106958953.284203,
          12891740381.695341,
          12680826208.349419,
          12474128648.688099,
          12271561742.1893,
          12073041313.623005,
          11878484935.153065,
          11687811889.265928,
          11500943132.507725,
          11317801260.011316,
          11138310470.795664,
          10962396533.819979,
          10789986754.775766,
          10621009943.600248,
          10455396382.694761,
          10293077795.83254,
          10133987317.740307,
          9978059464.338621,
          9825230103.626236,
          9675436427.194118,
          9528616922.354979,
          9384711344.874697,
          9243660692.292131,
          9105407177.814255,
          8969894204.773819,
          8837066341.63701,
          8706869297.548916,
          8579249898.404843,
          8454156063.435848,
          8331536782.29707,
          8211342092.647744,
          8093523058.212029,
          7978031747.310001,
          7864821211.848468,
          7753845466.761421,
          7645059469.890263,
          7538419102.294049,
          7433881148.980394,
          7331403280.047657,
          7230944032.2294855,
          7132462790.8328495,
          7035919772.060857,
          6941276005.71208,
          6848493318.247986,
          6757534316.220502,
          6668362370.051831,
          6580941598.158816,
          6495236851.414304,
          6411213697.938229,
          6328838408.211115,
          6248077940.503124,
          6168899926.61164,
          6091272657.900746,
          6015165071.636062,
          5940546737.608468,
          5867387845.040467,
          5795659189.769088,
          5725332161.699283,
          5656378732.522019,
          5588771443.691297,
          5522483394.654499,
          5457488231.330643,
          5393760134.831118,
          5331273810.417718,
          5270004476.692851,
          5209927855.016912,
          5151020159.147925,
          5093258085.098706,
          5036618801.2067995,
          4981079938.412728,
          4926619580.741934,
          4873216255.986212,
          4820848926.580194,
          4769496980.66884,
          4719140223.361741,
          4669758868.170308,
          4621333528.623893,
          4573845210.061065,
          4527275301.592223,
          4481605568.229971,
          4436818143.183623,
          4392895520.314361,
          4349820546.747629,
          4307576415.639385,
          4266146659.092967,
          4225515141.223362,
          4185666051.365741,
          4146583897.425203,
          4108253499.364711,
          4070659982.8283186,
          4033788772.8967957,
          3997625587.972864,
          3962156433.793264,
          3927367597.565019,
          3893245642.223236,
          3859777400.807882,
          3826949970.9570065,
          3794750709.513999,
          3763167227.2463903,
          3732187383.6739573,
          3701799282.003713,
          3671991264.1696095,
          3642751905.9747095,
          3614070012.3336973,
          3585934612.613578,
          3558334956.0705414,
          3531260507.380937,
          3504700942.264428,
          3478646143.197331,
          3453086195.214277,
          3428011381.796374,
          3403412180.843992,
          3379279260.7324433,
          3355603476.4488173,
          3332375865.8082595,
          3309587645.7480326,
          3287230208.697748,
          3265295119.0241456,
          3243774109.548926,
          3222659078.13801,
          3201942084.360851,
          3181615346.2182326,
          3161671236.9372115,
          3142102281.831741,
          3122901155.227637,
          3104060677.450547,
          3085573811.875611,
          3067433662.0375047,
          3049633468.799652,
          3032166607.5813437,
          3015026585.641582,
          2998207039.4184318,
          2981701731.92281,
          2965504550.1854587,
          2949609502.756138,
          2934010717.25384,
          2918702437.967038,
          2903679023.5028996,
          2888934944.484468,
          2874464781.294801,
          2860263221.867122,
          2846325059.519995,
          2832645190.8366356,
          2819218613.5874047,
          2806040424.694622,
          2793105818.2388105,
          2780410083.5055313,
          2767948603.071948,
          2755716850.9323134,
          2743710390.661594,
          2731924873.616416,
          2720356037.1725745,
          2708999702.9983673,
          2697851775.3629894,
          2686908239.4792953,
          2676165159.8801956,
          2665618678.828018,
          2655265014.7561336,
          2645100460.7422094,
          2635121383.012417,
          2625324219.4759707,
          2615705478.289374,
          2606261736.449756,
          2596989638.416711,
          2587885894.762053,
          2578947280.846907,
          2570170635.52559,
          2561552859.8757143,
          2553090915.953993,
          2544781825.5772133,
          2536622669.127865,
          2528610584.3839116,
          2520742765.3722243,
          2513016461.245187,
          2505428975.17999,
          2497977663.3001723,
          2490659933.618925,
          2483473245.003751,
          2476415106.1619983,
          2469483074.646892,
          2462674755.8835955,
          2455987802.2149377,
          2449419911.966373,
          2442968828.529794,
          2436632339.465817,
          2430408275.6241517,
          2424294510.281704,
          2418288958.298028,
          2412389575.287795,
          2406594356.809925,
          2400901337.573034,
          2395308590.6568737,
          2389814226.749444,
          2384416393.399448,
          2379113274.283772,
          2373903088.4897165,
          2368784089.8116317,
          2363754566.0617146,
          2358812838.394632,
          2353957260.6457376,
          2349186218.6825504,
          2344498129.7692933,
          2339891441.944156,
          2335364633.4090877,
          2330916211.9318056,
          2326544714.259839,
          2322248705.546289,
          2318026778.787143,
          2313877554.2698407,
          2309799679.0329123,
          2305791826.3364515,
          2301852695.1431875,
          2297981009.609957,
          2294175518.5893803,
          2290434995.141487,
          2286758236.05515,
          2283144061.379083,
          2279591313.962232,
          2276098859.003361,
          2272665583.609653,
          2269290396.36414,
          2265972226.901777,
          2262710025.4940076,
          2259502762.64162,
          2256349428.675748,
          2253249033.366843,
          2250200605.5414624,
          2247203192.706708,
          2244255860.682169,
          2241357693.239206,
          2238507791.7474546,
          2235705274.828362,
          2232949278.0156503,
          2230238953.422558,
          2227573469.415707,
          2224952010.2954826,
          2222373775.9827843,
          2219837981.7120233,
          2217343857.730234,
          2214890649.0021887,
          2212477614.9213824,
          2210104029.0267787,
          2207769178.725192,
          2205472365.0192027,
          2203212902.240486,
          2200990117.7884517,
          2198803351.874081,
          2196651957.2688646,
          2194535299.0587316,
          2192452754.4028707,
          2190403712.2973585,
          2188387573.3434668,
          2186403749.520597,
          2184451663.9637127,
          2182530750.745197,
          2180640454.66105,
          2178780231.021317,
          2176949545.4447002,
          2175147873.657231,
          2173374701.2949395,
          2171629523.7104487,
          2169911845.7833996,
          2168221181.7346387,
          2166557054.94409,
          2164918997.7722344,
          2163306551.38514,
          2161719265.582945,
          2160156698.6317515,
          2158618417.0988426,
          2157103995.691166,
          2155613017.0970187,
          2154145071.8308616,
          2152699758.0812044,
          2151276681.5615134,
          2149875455.3640537,
          2148495699.816631,
          2147137042.3421662,
          2145799117.321049,
          2144481565.956205,
          2143184036.1408346,
          2141906182.328771,
          2140647665.4073875,
          2139408152.5730271,
          2138187317.2088838,
          2136984838.765296,
          2135800402.642412,
          2134633700.0751548,
          2133484428.0204723,
          2132352289.0468025,
          2131236991.2257197,
          2130138248.02572,
          2129055778.208099,
          2127989305.7248807,
          2126938559.6187594,
          2125903273.9250102,
          2124883187.5753307,
          2123878044.3035839,
          2122887592.5533834,
          2121911585.3875093,
          2120949780.3990982,
          2120001939.6245852,
          2119067829.4583535,
          2118147220.5690684,
          2117239887.8176503,
          2116345610.1768577,
          2115464170.6524596,
          2114595356.2059438,
          2113738957.6787577,
          2112894769.7180178,
          2112062590.7036934,
          2111242222.6772137,
          2110433471.2714703,
          2109636145.6421988
         ]
        }
       ],
       "layout": {
        "autosize": false,
        "height": 1000,
        "template": {
         "data": {
          "bar": [
           {
            "error_x": {
             "color": "#2a3f5f"
            },
            "error_y": {
             "color": "#2a3f5f"
            },
            "marker": {
             "line": {
              "color": "#E5ECF6",
              "width": 0.5
             }
            },
            "type": "bar"
           }
          ],
          "barpolar": [
           {
            "marker": {
             "line": {
              "color": "#E5ECF6",
              "width": 0.5
             }
            },
            "type": "barpolar"
           }
          ],
          "carpet": [
           {
            "aaxis": {
             "endlinecolor": "#2a3f5f",
             "gridcolor": "white",
             "linecolor": "white",
             "minorgridcolor": "white",
             "startlinecolor": "#2a3f5f"
            },
            "baxis": {
             "endlinecolor": "#2a3f5f",
             "gridcolor": "white",
             "linecolor": "white",
             "minorgridcolor": "white",
             "startlinecolor": "#2a3f5f"
            },
            "type": "carpet"
           }
          ],
          "choropleth": [
           {
            "colorbar": {
             "outlinewidth": 0,
             "ticks": ""
            },
            "type": "choropleth"
           }
          ],
          "contour": [
           {
            "colorbar": {
             "outlinewidth": 0,
             "ticks": ""
            },
            "colorscale": [
             [
              0,
              "#0d0887"
             ],
             [
              0.1111111111111111,
              "#46039f"
             ],
             [
              0.2222222222222222,
              "#7201a8"
             ],
             [
              0.3333333333333333,
              "#9c179e"
             ],
             [
              0.4444444444444444,
              "#bd3786"
             ],
             [
              0.5555555555555556,
              "#d8576b"
             ],
             [
              0.6666666666666666,
              "#ed7953"
             ],
             [
              0.7777777777777778,
              "#fb9f3a"
             ],
             [
              0.8888888888888888,
              "#fdca26"
             ],
             [
              1,
              "#f0f921"
             ]
            ],
            "type": "contour"
           }
          ],
          "contourcarpet": [
           {
            "colorbar": {
             "outlinewidth": 0,
             "ticks": ""
            },
            "type": "contourcarpet"
           }
          ],
          "heatmap": [
           {
            "colorbar": {
             "outlinewidth": 0,
             "ticks": ""
            },
            "colorscale": [
             [
              0,
              "#0d0887"
             ],
             [
              0.1111111111111111,
              "#46039f"
             ],
             [
              0.2222222222222222,
              "#7201a8"
             ],
             [
              0.3333333333333333,
              "#9c179e"
             ],
             [
              0.4444444444444444,
              "#bd3786"
             ],
             [
              0.5555555555555556,
              "#d8576b"
             ],
             [
              0.6666666666666666,
              "#ed7953"
             ],
             [
              0.7777777777777778,
              "#fb9f3a"
             ],
             [
              0.8888888888888888,
              "#fdca26"
             ],
             [
              1,
              "#f0f921"
             ]
            ],
            "type": "heatmap"
           }
          ],
          "heatmapgl": [
           {
            "colorbar": {
             "outlinewidth": 0,
             "ticks": ""
            },
            "colorscale": [
             [
              0,
              "#0d0887"
             ],
             [
              0.1111111111111111,
              "#46039f"
             ],
             [
              0.2222222222222222,
              "#7201a8"
             ],
             [
              0.3333333333333333,
              "#9c179e"
             ],
             [
              0.4444444444444444,
              "#bd3786"
             ],
             [
              0.5555555555555556,
              "#d8576b"
             ],
             [
              0.6666666666666666,
              "#ed7953"
             ],
             [
              0.7777777777777778,
              "#fb9f3a"
             ],
             [
              0.8888888888888888,
              "#fdca26"
             ],
             [
              1,
              "#f0f921"
             ]
            ],
            "type": "heatmapgl"
           }
          ],
          "histogram": [
           {
            "marker": {
             "colorbar": {
              "outlinewidth": 0,
              "ticks": ""
             }
            },
            "type": "histogram"
           }
          ],
          "histogram2d": [
           {
            "colorbar": {
             "outlinewidth": 0,
             "ticks": ""
            },
            "colorscale": [
             [
              0,
              "#0d0887"
             ],
             [
              0.1111111111111111,
              "#46039f"
             ],
             [
              0.2222222222222222,
              "#7201a8"
             ],
             [
              0.3333333333333333,
              "#9c179e"
             ],
             [
              0.4444444444444444,
              "#bd3786"
             ],
             [
              0.5555555555555556,
              "#d8576b"
             ],
             [
              0.6666666666666666,
              "#ed7953"
             ],
             [
              0.7777777777777778,
              "#fb9f3a"
             ],
             [
              0.8888888888888888,
              "#fdca26"
             ],
             [
              1,
              "#f0f921"
             ]
            ],
            "type": "histogram2d"
           }
          ],
          "histogram2dcontour": [
           {
            "colorbar": {
             "outlinewidth": 0,
             "ticks": ""
            },
            "colorscale": [
             [
              0,
              "#0d0887"
             ],
             [
              0.1111111111111111,
              "#46039f"
             ],
             [
              0.2222222222222222,
              "#7201a8"
             ],
             [
              0.3333333333333333,
              "#9c179e"
             ],
             [
              0.4444444444444444,
              "#bd3786"
             ],
             [
              0.5555555555555556,
              "#d8576b"
             ],
             [
              0.6666666666666666,
              "#ed7953"
             ],
             [
              0.7777777777777778,
              "#fb9f3a"
             ],
             [
              0.8888888888888888,
              "#fdca26"
             ],
             [
              1,
              "#f0f921"
             ]
            ],
            "type": "histogram2dcontour"
           }
          ],
          "mesh3d": [
           {
            "colorbar": {
             "outlinewidth": 0,
             "ticks": ""
            },
            "type": "mesh3d"
           }
          ],
          "parcoords": [
           {
            "line": {
             "colorbar": {
              "outlinewidth": 0,
              "ticks": ""
             }
            },
            "type": "parcoords"
           }
          ],
          "pie": [
           {
            "automargin": true,
            "type": "pie"
           }
          ],
          "scatter": [
           {
            "marker": {
             "colorbar": {
              "outlinewidth": 0,
              "ticks": ""
             }
            },
            "type": "scatter"
           }
          ],
          "scatter3d": [
           {
            "line": {
             "colorbar": {
              "outlinewidth": 0,
              "ticks": ""
             }
            },
            "marker": {
             "colorbar": {
              "outlinewidth": 0,
              "ticks": ""
             }
            },
            "type": "scatter3d"
           }
          ],
          "scattercarpet": [
           {
            "marker": {
             "colorbar": {
              "outlinewidth": 0,
              "ticks": ""
             }
            },
            "type": "scattercarpet"
           }
          ],
          "scattergeo": [
           {
            "marker": {
             "colorbar": {
              "outlinewidth": 0,
              "ticks": ""
             }
            },
            "type": "scattergeo"
           }
          ],
          "scattergl": [
           {
            "marker": {
             "colorbar": {
              "outlinewidth": 0,
              "ticks": ""
             }
            },
            "type": "scattergl"
           }
          ],
          "scattermapbox": [
           {
            "marker": {
             "colorbar": {
              "outlinewidth": 0,
              "ticks": ""
             }
            },
            "type": "scattermapbox"
           }
          ],
          "scatterpolar": [
           {
            "marker": {
             "colorbar": {
              "outlinewidth": 0,
              "ticks": ""
             }
            },
            "type": "scatterpolar"
           }
          ],
          "scatterpolargl": [
           {
            "marker": {
             "colorbar": {
              "outlinewidth": 0,
              "ticks": ""
             }
            },
            "type": "scatterpolargl"
           }
          ],
          "scatterternary": [
           {
            "marker": {
             "colorbar": {
              "outlinewidth": 0,
              "ticks": ""
             }
            },
            "type": "scatterternary"
           }
          ],
          "surface": [
           {
            "colorbar": {
             "outlinewidth": 0,
             "ticks": ""
            },
            "colorscale": [
             [
              0,
              "#0d0887"
             ],
             [
              0.1111111111111111,
              "#46039f"
             ],
             [
              0.2222222222222222,
              "#7201a8"
             ],
             [
              0.3333333333333333,
              "#9c179e"
             ],
             [
              0.4444444444444444,
              "#bd3786"
             ],
             [
              0.5555555555555556,
              "#d8576b"
             ],
             [
              0.6666666666666666,
              "#ed7953"
             ],
             [
              0.7777777777777778,
              "#fb9f3a"
             ],
             [
              0.8888888888888888,
              "#fdca26"
             ],
             [
              1,
              "#f0f921"
             ]
            ],
            "type": "surface"
           }
          ],
          "table": [
           {
            "cells": {
             "fill": {
              "color": "#EBF0F8"
             },
             "line": {
              "color": "white"
             }
            },
            "header": {
             "fill": {
              "color": "#C8D4E3"
             },
             "line": {
              "color": "white"
             }
            },
            "type": "table"
           }
          ]
         },
         "layout": {
          "annotationdefaults": {
           "arrowcolor": "#2a3f5f",
           "arrowhead": 0,
           "arrowwidth": 1
          },
          "coloraxis": {
           "colorbar": {
            "outlinewidth": 0,
            "ticks": ""
           }
          },
          "colorscale": {
           "diverging": [
            [
             0,
             "#8e0152"
            ],
            [
             0.1,
             "#c51b7d"
            ],
            [
             0.2,
             "#de77ae"
            ],
            [
             0.3,
             "#f1b6da"
            ],
            [
             0.4,
             "#fde0ef"
            ],
            [
             0.5,
             "#f7f7f7"
            ],
            [
             0.6,
             "#e6f5d0"
            ],
            [
             0.7,
             "#b8e186"
            ],
            [
             0.8,
             "#7fbc41"
            ],
            [
             0.9,
             "#4d9221"
            ],
            [
             1,
             "#276419"
            ]
           ],
           "sequential": [
            [
             0,
             "#0d0887"
            ],
            [
             0.1111111111111111,
             "#46039f"
            ],
            [
             0.2222222222222222,
             "#7201a8"
            ],
            [
             0.3333333333333333,
             "#9c179e"
            ],
            [
             0.4444444444444444,
             "#bd3786"
            ],
            [
             0.5555555555555556,
             "#d8576b"
            ],
            [
             0.6666666666666666,
             "#ed7953"
            ],
            [
             0.7777777777777778,
             "#fb9f3a"
            ],
            [
             0.8888888888888888,
             "#fdca26"
            ],
            [
             1,
             "#f0f921"
            ]
           ],
           "sequentialminus": [
            [
             0,
             "#0d0887"
            ],
            [
             0.1111111111111111,
             "#46039f"
            ],
            [
             0.2222222222222222,
             "#7201a8"
            ],
            [
             0.3333333333333333,
             "#9c179e"
            ],
            [
             0.4444444444444444,
             "#bd3786"
            ],
            [
             0.5555555555555556,
             "#d8576b"
            ],
            [
             0.6666666666666666,
             "#ed7953"
            ],
            [
             0.7777777777777778,
             "#fb9f3a"
            ],
            [
             0.8888888888888888,
             "#fdca26"
            ],
            [
             1,
             "#f0f921"
            ]
           ]
          },
          "colorway": [
           "#636efa",
           "#EF553B",
           "#00cc96",
           "#ab63fa",
           "#FFA15A",
           "#19d3f3",
           "#FF6692",
           "#B6E880",
           "#FF97FF",
           "#FECB52"
          ],
          "font": {
           "color": "#2a3f5f"
          },
          "geo": {
           "bgcolor": "white",
           "lakecolor": "white",
           "landcolor": "#E5ECF6",
           "showlakes": true,
           "showland": true,
           "subunitcolor": "white"
          },
          "hoverlabel": {
           "align": "left"
          },
          "hovermode": "closest",
          "mapbox": {
           "style": "light"
          },
          "paper_bgcolor": "white",
          "plot_bgcolor": "#E5ECF6",
          "polar": {
           "angularaxis": {
            "gridcolor": "white",
            "linecolor": "white",
            "ticks": ""
           },
           "bgcolor": "#E5ECF6",
           "radialaxis": {
            "gridcolor": "white",
            "linecolor": "white",
            "ticks": ""
           }
          },
          "scene": {
           "xaxis": {
            "backgroundcolor": "#E5ECF6",
            "gridcolor": "white",
            "gridwidth": 2,
            "linecolor": "white",
            "showbackground": true,
            "ticks": "",
            "zerolinecolor": "white"
           },
           "yaxis": {
            "backgroundcolor": "#E5ECF6",
            "gridcolor": "white",
            "gridwidth": 2,
            "linecolor": "white",
            "showbackground": true,
            "ticks": "",
            "zerolinecolor": "white"
           },
           "zaxis": {
            "backgroundcolor": "#E5ECF6",
            "gridcolor": "white",
            "gridwidth": 2,
            "linecolor": "white",
            "showbackground": true,
            "ticks": "",
            "zerolinecolor": "white"
           }
          },
          "shapedefaults": {
           "line": {
            "color": "#2a3f5f"
           }
          },
          "ternary": {
           "aaxis": {
            "gridcolor": "white",
            "linecolor": "white",
            "ticks": ""
           },
           "baxis": {
            "gridcolor": "white",
            "linecolor": "white",
            "ticks": ""
           },
           "bgcolor": "#E5ECF6",
           "caxis": {
            "gridcolor": "white",
            "linecolor": "white",
            "ticks": ""
           }
          },
          "title": {
           "x": 0.05
          },
          "xaxis": {
           "automargin": true,
           "gridcolor": "white",
           "linecolor": "white",
           "ticks": "",
           "title": {
            "standoff": 15
           },
           "zerolinecolor": "white",
           "zerolinewidth": 2
          },
          "yaxis": {
           "automargin": true,
           "gridcolor": "white",
           "linecolor": "white",
           "ticks": "",
           "title": {
            "standoff": 15
           },
           "zerolinecolor": "white",
           "zerolinewidth": 2
          }
         }
        },
        "width": 1000,
        "xaxis": {
         "autorange": true,
         "range": [
          0,
          399
         ],
         "title": {
          "text": "Number of iterations"
         }
        },
        "yaxis": {
         "autorange": true,
         "range": [
          -1417136741.0697591,
          69118320993.1694
         ],
         "title": {
          "text": "Cost J"
         },
         "type": "linear"
        }
       }
      },
      "image/png": "[encoded data removed]",
      "text/html": [
       "<div>\n",
       "        \n",
       "        \n",
       "            <div id=\"0d1764e9-95d9-4a48-a72a-c7995a0bcc56\" class=\"plotly-graph-div\" style=\"height:1000px; width:1000px;\"></div>\n",
       "            <script type=\"text/javascript\">\n",
       "                require([\"plotly\"], function(Plotly) {\n",
       "                    window.PLOTLYENV=window.PLOTLYENV || {};\n",
       "                    \n",
       "                if (document.getElementById(\"0d1764e9-95d9-4a48-a72a-c7995a0bcc56\")) {\n",
       "                    Plotly.newPlot(\n",
       "                        '0d1764e9-95d9-4a48-a72a-c7995a0bcc56',\n",
       "                        [{\"mode\": \"lines\", \"type\": \"scatter\", \"y\": [65591548106.45744, 64300749594.56597, 63036794964.819695, 61799111840.65743, 60587140419.70562, 59400333187.44639, 58238154637.67972, 57100080999.61124, 55985599971.40147, 54894210460.01703, 53825422327.22772, 52778756141.59795, 51753742936.32477, 50749923972.77846, 49766850509.605644, 48804083577.2577, 47861193757.81185, 46937760969.95513, 46033374259.004395, 45147631591.83965, 44280139656.630394, 43430513667.238045, 42598377172.180504, 41783361868.047745, 40985107417.260056, 40203261270.06358, 39437478490.660255, 38687421587.37179, 37952760346.74029, 37233171671.4699, 36528339422.11712, 35837954262.43886, 35161713508.31038, 34499320980.12704, 33850486858.606007, 33214927543.906292, 32592365517.987434, 31982529210.129135, 31385152865.53635, 30799976416.95573, 30226745359.231636, 29665210626.731564, 29115128473.572483, 28576260356.581406, 28048372820.925133, 27531237388.34581, 27024630447.940327, 26528333149.423252, 26042131298.81458, 25565815256.494778, 25099179837.571243, 24642024214.501625, 24194151821.920673, 23755370263.61888, 23325491221.622005, 22904330367.322403, 22491707274.613747, 22087445334.982155, 21691371674.50808, 21303317072.73393, 20923115883.354034, 20550605956.68429, 20185628563.86995, 19828028322.79102, 19477653125.625816, 19134354068.03403, 18797985379.921722, 18468404357.751408, 18145471298.361637, 17829049434.260822, 17519004870.361404, 17215206522.12098, 16917526055.05784, 16625837825.609407, 16340018823.302347, 16059948614.204391, 15785509285.62826, 15516585392.058973, 15253063902.276438, 14994834147.64594, 14741787771.549706, 14493818679.933552, 14250822992.942993, 14012698997.624037, 13779347101.664267, 13550669788.150599, 13326571571.320534, 13106958953.284203, 12891740381.695341, 12680826208.349419, 12474128648.688099, 12271561742.1893, 12073041313.623005, 11878484935.153065, 11687811889.265928, 11500943132.507725, 11317801260.011316, 11138310470.795664, 10962396533.819979, 10789986754.775766, 10621009943.600248, 10455396382.694761, 10293077795.83254, 10133987317.740307, 9978059464.338621, 9825230103.626236, 9675436427.194118, 9528616922.354979, 9384711344.874697, 9243660692.292131, 9105407177.814255, 8969894204.773819, 8837066341.63701, 8706869297.548916, 8579249898.404843, 8454156063.435848, 8331536782.29707, 8211342092.647744, 8093523058.212029, 7978031747.310001, 7864821211.848468, 7753845466.761421, 7645059469.890263, 7538419102.294049, 7433881148.980394, 7331403280.047657, 7230944032.2294855, 7132462790.8328495, 7035919772.060857, 6941276005.71208, 6848493318.247986, 6757534316.220502, 6668362370.051831, 6580941598.158816, 6495236851.414304, 6411213697.938229, 6328838408.211115, 6248077940.503124, 6168899926.61164, 6091272657.900746, 6015165071.636062, 5940546737.608468, 5867387845.040467, 5795659189.769088, 5725332161.699283, 5656378732.522019, 5588771443.691297, 5522483394.654499, 5457488231.330643, 5393760134.831118, 5331273810.417718, 5270004476.692851, 5209927855.016912, 5151020159.147925, 5093258085.098706, 5036618801.2067995, 4981079938.412728, 4926619580.741934, 4873216255.986212, 4820848926.580194, 4769496980.66884, 4719140223.361741, 4669758868.170308, 4621333528.623893, 4573845210.061065, 4527275301.592223, 4481605568.229971, 4436818143.183623, 4392895520.314361, 4349820546.747629, 4307576415.639385, 4266146659.092967, 4225515141.223362, 4185666051.365741, 4146583897.425203, 4108253499.364711, 4070659982.8283186, 4033788772.8967957, 3997625587.972864, 3962156433.793264, 3927367597.565019, 3893245642.223236, 3859777400.807882, 3826949970.9570065, 3794750709.513999, 3763167227.2463903, 3732187383.6739573, 3701799282.003713, 3671991264.1696095, 3642751905.9747095, 3614070012.3336973, 3585934612.613578, 3558334956.0705414, 3531260507.380937, 3504700942.264428, 3478646143.197331, 3453086195.214277, 3428011381.796374, 3403412180.843992, 3379279260.7324433, 3355603476.4488173, 3332375865.8082595, 3309587645.7480326, 3287230208.697748, 3265295119.0241456, 3243774109.548926, 3222659078.13801, 3201942084.360851, 3181615346.2182326, 3161671236.9372115, 3142102281.831741, 3122901155.227637, 3104060677.450547, 3085573811.875611, 3067433662.0375047, 3049633468.799652, 3032166607.5813437, 3015026585.641582, 2998207039.4184318, 2981701731.92281, 2965504550.1854587, 2949609502.756138, 2934010717.25384, 2918702437.967038, 2903679023.5028996, 2888934944.484468, 2874464781.294801, 2860263221.867122, 2846325059.519995, 2832645190.8366356, 2819218613.5874047, 2806040424.694622, 2793105818.2388105, 2780410083.5055313, 2767948603.071948, 2755716850.9323134, 2743710390.661594, 2731924873.616416, 2720356037.1725745, 2708999702.9983673, 2697851775.3629894, 2686908239.4792953, 2676165159.8801956, 2665618678.828018, 2655265014.7561336, 2645100460.7422094, 2635121383.012417, 2625324219.4759707, 2615705478.289374, 2606261736.449756, 2596989638.416711, 2587885894.762053, 2578947280.846907, 2570170635.52559, 2561552859.8757143, 2553090915.953993, 2544781825.5772133, 2536622669.127865, 2528610584.3839116, 2520742765.3722243, 2513016461.245187, 2505428975.17999, 2497977663.3001723, 2490659933.618925, 2483473245.003751, 2476415106.1619983, 2469483074.646892, 2462674755.8835955, 2455987802.2149377, 2449419911.966373, 2442968828.529794, 2436632339.465817, 2430408275.6241517, 2424294510.281704, 2418288958.298028, 2412389575.287795, 2406594356.809925, 2400901337.573034, 2395308590.6568737, 2389814226.749444, 2384416393.399448, 2379113274.283772, 2373903088.4897165, 2368784089.8116317, 2363754566.0617146, 2358812838.394632, 2353957260.6457376, 2349186218.6825504, 2344498129.7692933, 2339891441.944156, 2335364633.4090877, 2330916211.9318056, 2326544714.259839, 2322248705.546289, 2318026778.787143, 2313877554.2698407, 2309799679.0329123, 2305791826.3364515, 2301852695.1431875, 2297981009.609957, 2294175518.5893803, 2290434995.141487, 2286758236.05515, 2283144061.379083, 2279591313.962232, 2276098859.003361, 2272665583.609653, 2269290396.36414, 2265972226.901777, 2262710025.4940076, 2259502762.64162, 2256349428.675748, 2253249033.366843, 2250200605.5414624, 2247203192.706708, 2244255860.682169, 2241357693.239206, 2238507791.7474546, 2235705274.828362, 2232949278.0156503, 2230238953.422558, 2227573469.415707, 2224952010.2954826, 2222373775.9827843, 2219837981.7120233, 2217343857.730234, 2214890649.0021887, 2212477614.9213824, 2210104029.0267787, 2207769178.725192, 2205472365.0192027, 2203212902.240486, 2200990117.7884517, 2198803351.874081, 2196651957.2688646, 2194535299.0587316, 2192452754.4028707, 2190403712.2973585, 2188387573.3434668, 2186403749.520597, 2184451663.9637127, 2182530750.745197, 2180640454.66105, 2178780231.021317, 2176949545.4447002, 2175147873.657231, 2173374701.2949395, 2171629523.7104487, 2169911845.7833996, 2168221181.7346387, 2166557054.94409, 2164918997.7722344, 2163306551.38514, 2161719265.582945, 2160156698.6317515, 2158618417.0988426, 2157103995.691166, 2155613017.0970187, 2154145071.8308616, 2152699758.0812044, 2151276681.5615134, 2149875455.3640537, 2148495699.816631, 2147137042.3421662, 2145799117.321049, 2144481565.956205, 2143184036.1408346, 2141906182.328771, 2140647665.4073875, 2139408152.5730271, 2138187317.2088838, 2136984838.765296, 2135800402.642412, 2134633700.0751548, 2133484428.0204723, 2132352289.0468025, 2131236991.2257197, 2130138248.02572, 2129055778.208099, 2127989305.7248807, 2126938559.6187594, 2125903273.9250102, 2124883187.5753307, 2123878044.3035839, 2122887592.5533834, 2121911585.3875093, 2120949780.3990982, 2120001939.6245852, 2119067829.4583535, 2118147220.5690684, 2117239887.8176503, 2116345610.1768577, 2115464170.6524596, 2114595356.2059438, 2113738957.6787577, 2112894769.7180178, 2112062590.7036934, 2111242222.6772137, 2110433471.2714703, 2109636145.6421988]}],\n",
       "                        {\"autosize\": false, \"height\": 1000, \"template\": {\"data\": {\"bar\": [{\"error_x\": {\"color\": \"#2a3f5f\"}, \"error_y\": {\"color\": \"#2a3f5f\"}, \"marker\": {\"line\": {\"color\": \"#E5ECF6\", \"width\": 0.5}}, \"type\": \"bar\"}], \"barpolar\": [{\"marker\": {\"line\": {\"color\": \"#E5ECF6\", \"width\": 0.5}}, \"type\": \"barpolar\"}], \"carpet\": [{\"aaxis\": {\"endlinecolor\": \"#2a3f5f\", \"gridcolor\": \"white\", \"linecolor\": \"white\", \"minorgridcolor\": \"white\", \"startlinecolor\": \"#2a3f5f\"}, \"baxis\": {\"endlinecolor\": \"#2a3f5f\", \"gridcolor\": \"white\", \"linecolor\": \"white\", \"minorgridcolor\": \"white\", \"startlinecolor\": \"#2a3f5f\"}, \"type\": \"carpet\"}], \"choropleth\": [{\"colorbar\": {\"outlinewidth\": 0, \"ticks\": \"\"}, \"type\": \"choropleth\"}], \"contour\": [{\"colorbar\": {\"outlinewidth\": 0, \"ticks\": \"\"}, \"colorscale\": [[0.0, \"#0d0887\"], [0.1111111111111111, \"#46039f\"], [0.2222222222222222, \"#7201a8\"], [0.3333333333333333, \"#9c179e\"], [0.4444444444444444, \"#bd3786\"], [0.5555555555555556, \"#d8576b\"], [0.6666666666666666, \"#ed7953\"], [0.7777777777777778, \"#fb9f3a\"], [0.8888888888888888, \"#fdca26\"], [1.0, \"#f0f921\"]], \"type\": \"contour\"}], \"contourcarpet\": [{\"colorbar\": {\"outlinewidth\": 0, \"ticks\": \"\"}, \"type\": \"contourcarpet\"}], \"heatmap\": [{\"colorbar\": {\"outlinewidth\": 0, \"ticks\": \"\"}, \"colorscale\": [[0.0, \"#0d0887\"], [0.1111111111111111, \"#46039f\"], [0.2222222222222222, \"#7201a8\"], [0.3333333333333333, \"#9c179e\"], [0.4444444444444444, \"#bd3786\"], [0.5555555555555556, \"#d8576b\"], [0.6666666666666666, \"#ed7953\"], [0.7777777777777778, \"#fb9f3a\"], [0.8888888888888888, \"#fdca26\"], [1.0, \"#f0f921\"]], \"type\": \"heatmap\"}], \"heatmapgl\": [{\"colorbar\": {\"outlinewidth\": 0, \"ticks\": \"\"}, \"colorscale\": [[0.0, \"#0d0887\"], [0.1111111111111111, \"#46039f\"], [0.2222222222222222, \"#7201a8\"], [0.3333333333333333, \"#9c179e\"], [0.4444444444444444, \"#bd3786\"], [0.5555555555555556, \"#d8576b\"], [0.6666666666666666, \"#ed7953\"], [0.7777777777777778, \"#fb9f3a\"], [0.8888888888888888, \"#fdca26\"], [1.0, \"#f0f921\"]], \"type\": \"heatmapgl\"}], \"histogram\": [{\"marker\": {\"colorbar\": {\"outlinewidth\": 0, \"ticks\": \"\"}}, \"type\": \"histogram\"}], \"histogram2d\": [{\"colorbar\": {\"outlinewidth\": 0, \"ticks\": \"\"}, \"colorscale\": [[0.0, \"#0d0887\"], [0.1111111111111111, \"#46039f\"], [0.2222222222222222, \"#7201a8\"], [0.3333333333333333, \"#9c179e\"], [0.4444444444444444, \"#bd3786\"], [0.5555555555555556, \"#d8576b\"], [0.6666666666666666, \"#ed7953\"], [0.7777777777777778, \"#fb9f3a\"], [0.8888888888888888, \"#fdca26\"], [1.0, \"#f0f921\"]], \"type\": \"histogram2d\"}], \"histogram2dcontour\": [{\"colorbar\": {\"outlinewidth\": 0, \"ticks\": \"\"}, \"colorscale\": [[0.0, \"#0d0887\"], [0.1111111111111111, \"#46039f\"], [0.2222222222222222, \"#7201a8\"], [0.3333333333333333, \"#9c179e\"], [0.4444444444444444, \"#bd3786\"], [0.5555555555555556, \"#d8576b\"], [0.6666666666666666, \"#ed7953\"], [0.7777777777777778, \"#fb9f3a\"], [0.8888888888888888, \"#fdca26\"], [1.0, \"#f0f921\"]], \"type\": \"histogram2dcontour\"}], \"mesh3d\": [{\"colorbar\": {\"outlinewidth\": 0, \"ticks\": \"\"}, \"type\": \"mesh3d\"}], \"parcoords\": [{\"line\": {\"colorbar\": {\"outlinewidth\": 0, \"ticks\": \"\"}}, \"type\": \"parcoords\"}], \"pie\": [{\"automargin\": true, \"type\": \"pie\"}], \"scatter\": [{\"marker\": {\"colorbar\": {\"outlinewidth\": 0, \"ticks\": \"\"}}, \"type\": \"scatter\"}], \"scatter3d\": [{\"line\": {\"colorbar\": {\"outlinewidth\": 0, \"ticks\": \"\"}}, \"marker\": {\"colorbar\": {\"outlinewidth\": 0, \"ticks\": \"\"}}, \"type\": \"scatter3d\"}], \"scattercarpet\": [{\"marker\": {\"colorbar\": {\"outlinewidth\": 0, \"ticks\": \"\"}}, \"type\": \"scattercarpet\"}], \"scattergeo\": [{\"marker\": {\"colorbar\": {\"outlinewidth\": 0, \"ticks\": \"\"}}, \"type\": \"scattergeo\"}], \"scattergl\": [{\"marker\": {\"colorbar\": {\"outlinewidth\": 0, \"ticks\": \"\"}}, \"type\": \"scattergl\"}], \"scattermapbox\": [{\"marker\": {\"colorbar\": {\"outlinewidth\": 0, \"ticks\": \"\"}}, \"type\": \"scattermapbox\"}], \"scatterpolar\": [{\"marker\": {\"colorbar\": {\"outlinewidth\": 0, \"ticks\": \"\"}}, \"type\": \"scatterpolar\"}], \"scatterpolargl\": [{\"marker\": {\"colorbar\": {\"outlinewidth\": 0, \"ticks\": \"\"}}, \"type\": \"scatterpolargl\"}], \"scatterternary\": [{\"marker\": {\"colorbar\": {\"outlinewidth\": 0, \"ticks\": \"\"}}, \"type\": \"scatterternary\"}], \"surface\": [{\"colorbar\": {\"outlinewidth\": 0, \"ticks\": \"\"}, \"colorscale\": [[0.0, \"#0d0887\"], [0.1111111111111111, \"#46039f\"], [0.2222222222222222, \"#7201a8\"], [0.3333333333333333, \"#9c179e\"], [0.4444444444444444, \"#bd3786\"], [0.5555555555555556, \"#d8576b\"], [0.6666666666666666, \"#ed7953\"], [0.7777777777777778, \"#fb9f3a\"], [0.8888888888888888, \"#fdca26\"], [1.0, \"#f0f921\"]], \"type\": \"surface\"}], \"table\": [{\"cells\": {\"fill\": {\"color\": \"#EBF0F8\"}, \"line\": {\"color\": \"white\"}}, \"header\": {\"fill\": {\"color\": \"#C8D4E3\"}, \"line\": {\"color\": \"white\"}}, \"type\": \"table\"}]}, \"layout\": {\"annotationdefaults\": {\"arrowcolor\": \"#2a3f5f\", \"arrowhead\": 0, \"arrowwidth\": 1}, \"coloraxis\": {\"colorbar\": {\"outlinewidth\": 0, \"ticks\": \"\"}}, \"colorscale\": {\"diverging\": [[0, \"#8e0152\"], [0.1, \"#c51b7d\"], [0.2, \"#de77ae\"], [0.3, \"#f1b6da\"], [0.4, \"#fde0ef\"], [0.5, \"#f7f7f7\"], [0.6, \"#e6f5d0\"], [0.7, \"#b8e186\"], [0.8, \"#7fbc41\"], [0.9, \"#4d9221\"], [1, \"#276419\"]], \"sequential\": [[0.0, \"#0d0887\"], [0.1111111111111111, \"#46039f\"], [0.2222222222222222, \"#7201a8\"], [0.3333333333333333, \"#9c179e\"], [0.4444444444444444, \"#bd3786\"], [0.5555555555555556, \"#d8576b\"], [0.6666666666666666, \"#ed7953\"], [0.7777777777777778, \"#fb9f3a\"], [0.8888888888888888, \"#fdca26\"], [1.0, \"#f0f921\"]], \"sequentialminus\": [[0.0, \"#0d0887\"], [0.1111111111111111, \"#46039f\"], [0.2222222222222222, \"#7201a8\"], [0.3333333333333333, \"#9c179e\"], [0.4444444444444444, \"#bd3786\"], [0.5555555555555556, \"#d8576b\"], [0.6666666666666666, \"#ed7953\"], [0.7777777777777778, \"#fb9f3a\"], [0.8888888888888888, \"#fdca26\"], [1.0, \"#f0f921\"]]}, \"colorway\": [\"#636efa\", \"#EF553B\", \"#00cc96\", \"#ab63fa\", \"#FFA15A\", \"#19d3f3\", \"#FF6692\", \"#B6E880\", \"#FF97FF\", \"#FECB52\"], \"font\": {\"color\": \"#2a3f5f\"}, \"geo\": {\"bgcolor\": \"white\", \"lakecolor\": \"white\", \"landcolor\": \"#E5ECF6\", \"showlakes\": true, \"showland\": true, \"subunitcolor\": \"white\"}, \"hoverlabel\": {\"align\": \"left\"}, \"hovermode\": \"closest\", \"mapbox\": {\"style\": \"light\"}, \"paper_bgcolor\": \"white\", \"plot_bgcolor\": \"#E5ECF6\", \"polar\": {\"angularaxis\": {\"gridcolor\": \"white\", \"linecolor\": \"white\", \"ticks\": \"\"}, \"bgcolor\": \"#E5ECF6\", \"radialaxis\": {\"gridcolor\": \"white\", \"linecolor\": \"white\", \"ticks\": \"\"}}, \"scene\": {\"xaxis\": {\"backgroundcolor\": \"#E5ECF6\", \"gridcolor\": \"white\", \"gridwidth\": 2, \"linecolor\": \"white\", \"showbackground\": true, \"ticks\": \"\", \"zerolinecolor\": \"white\"}, \"yaxis\": {\"backgroundcolor\": \"#E5ECF6\", \"gridcolor\": \"white\", \"gridwidth\": 2, \"linecolor\": \"white\", \"showbackground\": true, \"ticks\": \"\", \"zerolinecolor\": \"white\"}, \"zaxis\": {\"backgroundcolor\": \"#E5ECF6\", \"gridcolor\": \"white\", \"gridwidth\": 2, \"linecolor\": \"white\", \"showbackground\": true, \"ticks\": \"\", \"zerolinecolor\": \"white\"}}, \"shapedefaults\": {\"line\": {\"color\": \"#2a3f5f\"}}, \"ternary\": {\"aaxis\": {\"gridcolor\": \"white\", \"linecolor\": \"white\", \"ticks\": \"\"}, \"baxis\": {\"gridcolor\": \"white\", \"linecolor\": \"white\", \"ticks\": \"\"}, \"bgcolor\": \"#E5ECF6\", \"caxis\": {\"gridcolor\": \"white\", \"linecolor\": \"white\", \"ticks\": \"\"}}, \"title\": {\"x\": 0.05}, \"xaxis\": {\"automargin\": true, \"gridcolor\": \"white\", \"linecolor\": \"white\", \"ticks\": \"\", \"title\": {\"standoff\": 15}, \"zerolinecolor\": \"white\", \"zerolinewidth\": 2}, \"yaxis\": {\"automargin\": true, \"gridcolor\": \"white\", \"linecolor\": \"white\", \"ticks\": \"\", \"title\": {\"standoff\": 15}, \"zerolinecolor\": \"white\", \"zerolinewidth\": 2}}}, \"width\": 1000, \"xaxis\": {\"title\": {\"text\": \"Number of iterations\"}}, \"yaxis\": {\"title\": {\"text\": \"Cost J\"}}},\n",
       "                        {\"responsive\": true}\n",
       "                    ).then(function(){\n",
       "                            \n",
       "var gd = document.getElementById('0d1764e9-95d9-4a48-a72a-c7995a0bcc56');\n",
       "var x = new MutationObserver(function (mutations, observer) {{\n",
       "        var display = window.getComputedStyle(gd).display;\n",
       "        if (!display || display === 'none') {{\n",
       "            console.log([gd, 'removed!']);\n",
       "            Plotly.purge(gd);\n",
       "            observer.disconnect();\n",
       "        }}\n",
       "}});\n",
       "\n",
       "// Listen for the removal of the full notebook cells\n",
       "var notebookContainer = gd.closest('#notebook-container');\n",
       "if (notebookContainer) {{\n",
       "    x.observe(notebookContainer, {childList: true});\n",
       "}}\n",
       "\n",
       "// Listen for the clearing of the current output cell\n",
       "var outputEl = gd.closest('.output');\n",
       "if (outputEl) {{\n",
       "    x.observe(outputEl, {childList: true});\n",
       "}}\n",
       "\n",
       "                        })\n",
       "                };\n",
       "                });\n",
       "            </script>\n",
       "        </div>"
      ]
     },
     "metadata": {},
     "output_type": "display_data"
    }
   ],
   "source": [
    "fig2 = go.Figure()\n",
    "\n",
    "layout = go.Layout( autosize=False,\n",
    "                    width=1000,\n",
    "                    height=1000,\n",
    "                    xaxis = dict( title_text = \"Number of iterations\"),\n",
    "                    yaxis = dict( title_text = \"Cost J\") )\n",
    "\n",
    "trace1 = go.Scatter( y = J_history, mode='lines' )\n",
    "\n",
    "\n",
    "fig2.layout = layout\n",
    "fig2.add_trace( trace1 )"
   ]
  },
  {
   "cell_type": "markdown",
   "metadata": {},
   "source": [
    "Estimate the price of a 1650 sq-ft, 3 br house\n"
   ]
  },
  {
   "cell_type": "code",
   "execution_count": null,
   "metadata": {},
   "outputs": [],
   "source": []
  },
  {
   "cell_type": "code",
   "execution_count": 165,
   "metadata": {},
   "outputs": [],
   "source": [
    "surface = 1650\n",
    "bedrooms = 3"
   ]
  },
  {
   "cell_type": "code",
   "execution_count": 187,
   "metadata": {},
   "outputs": [
    {
     "name": "stdout",
     "output_type": "stream",
     "text": [
      "Predicted price of a 1650 sq-ft, 3 br house (using gradient descent):\n",
      " 91490.9576635477\n",
      "\n"
     ]
    }
   ],
   "source": [
    "price =  np.sum((1, (surface-mu[0])/sigma[0], (bedrooms-mu[1])/sigma[1]) * theta )\n",
    "print(f'Predicted price of a 1650 sq-ft, 3 br house (using gradient descent):\\n {price }\\n' )"
   ]
  },
  {
   "cell_type": "markdown",
   "metadata": {},
   "source": [
    " "
   ]
  },
  {
   "cell_type": "markdown",
   "metadata": {},
   "source": [
    "# Solving with normal equations"
   ]
  },
  {
   "cell_type": "code",
   "execution_count": 172,
   "metadata": {},
   "outputs": [],
   "source": [
    "x = np.copy(data[:,:-1])\n",
    "y = np.copy(data[:,-1])\n",
    "m = np.shape(x)[0]"
   ]
  },
  {
   "cell_type": "code",
   "execution_count": 173,
   "metadata": {},
   "outputs": [
    {
     "data": {
      "text/plain": [
       "array([[1.000e+00, 2.104e+03, 3.000e+00],\n",
       "       [1.000e+00, 1.600e+03, 3.000e+00],\n",
       "       [1.000e+00, 2.400e+03, 3.000e+00],\n",
       "       [1.000e+00, 1.416e+03, 2.000e+00],\n",
       "       [1.000e+00, 3.000e+03, 4.000e+00]])"
      ]
     },
     "execution_count": 173,
     "metadata": {},
     "output_type": "execute_result"
    }
   ],
   "source": [
    "X = np.ones([m,np.shape(x)[1]+1])\n",
    "X[:,1:] = x\n",
    "X[:5]"
   ]
  },
  {
   "cell_type": "code",
   "execution_count": 185,
   "metadata": {},
   "outputs": [
    {
     "name": "stdout",
     "output_type": "stream",
     "text": [
      "Theta computed from the normal equations: \n",
      " [89597.9095428    139.21067402 -8738.01911233]\n"
     ]
    }
   ],
   "source": [
    "theta = normalEqn(X = X, y =y)\n",
    "print(f'Theta computed from the normal equations: \\n { theta}')"
   ]
  },
  {
   "cell_type": "code",
   "execution_count": 175,
   "metadata": {},
   "outputs": [],
   "source": [
    "surface = 1650\n",
    "bedrooms = 3"
   ]
  },
  {
   "cell_type": "code",
   "execution_count": 186,
   "metadata": {},
   "outputs": [
    {
     "name": "stdout",
     "output_type": "stream",
     "text": [
      "Predicted price of a 1650 sq-ft, 3 br house (using normal equations):\n",
      " 293081.4643348949\n",
      "\n"
     ]
    }
   ],
   "source": [
    "price =  np.sum((1, surface, bedrooms) * theta )\n",
    "print(f'Predicted price of a 1650 sq-ft, 3 br house (using normal equations):\\n {price }\\n' )"
   ]
  },
  {
   "cell_type": "markdown",
   "metadata": {},
   "source": [
    "# Additional Part, path of gradient:"
   ]
  },
  {
   "cell_type": "code",
   "execution_count": 213,
   "metadata": {},
   "outputs": [],
   "source": [
    "x = np.copy(data[:,:-1])\n",
    "y = np.copy(data[:,-1])\n",
    "m = np.shape(x)[0]"
   ]
  },
  {
   "cell_type": "code",
   "execution_count": 214,
   "metadata": {},
   "outputs": [],
   "source": [
    "x, mu, sigma =featureNormalize( x )"
   ]
  },
  {
   "cell_type": "code",
   "execution_count": 215,
   "metadata": {},
   "outputs": [],
   "source": [
    "X = np.ones([m,np.shape(x)[1]+1])\n",
    "X[:,1:] = x"
   ]
  },
  {
   "cell_type": "code",
   "execution_count": 246,
   "metadata": {},
   "outputs": [],
   "source": [
    "theta = np.zeros([np.shape(x)[1]+1])"
   ]
  },
  {
   "cell_type": "code",
   "execution_count": 247,
   "metadata": {},
   "outputs": [
    {
     "name": "stdout",
     "output_type": "stream",
     "text": [
      "[340412.65957446 110630.9424711   -6649.36646307]\n"
     ]
    }
   ],
   "source": [
    "iterations = 300\n",
    "alpha = 0.1\n",
    "\n",
    "theta, J_history, theta_history = gradientDescent_simple(X=X, y=y , theta=theta, alpha=alpha, num_iters=iterations )\n",
    "print(theta)"
   ]
  },
  {
   "cell_type": "code",
   "execution_count": 248,
   "metadata": {},
   "outputs": [],
   "source": [
    "surface = 1650\n",
    "bedrooms = 3"
   ]
  },
  {
   "cell_type": "code",
   "execution_count": 249,
   "metadata": {},
   "outputs": [
    {
     "name": "stdout",
     "output_type": "stream",
     "text": [
      "Predicted price of a 1650 sq-ft, 3 br house (using gradient descent):\n",
      " 293081.48779364215\n",
      "\n"
     ]
    }
   ],
   "source": [
    "price =  np.sum((1, (surface-mu[0])/sigma[0], (bedrooms-mu[1])/sigma[1]) * theta )\n",
    "print(f'Predicted price of a 1650 sq-ft, 3 br house (using gradient descent):\\n {price }\\n' )"
   ]
  },
  {
   "cell_type": "code",
   "execution_count": 250,
   "metadata": {},
   "outputs": [
    {
     "data": {
      "text/plain": [
       "array([[     0.        ,      0.        ,      0.        ],\n",
       "       [ 34041.26595745,  10463.29337662,   5412.36838441],\n",
       "       [ 64678.40531915,  19605.89326429,   9721.5716664 ],\n",
       "       [ 92251.83074468,  27617.51832109,  13107.96020042],\n",
       "       [117067.91362766,  34659.43484056,  15723.83544149],\n",
       "       [139402.38822234,  40868.77867962,  17697.75449704],\n",
       "       [159503.41535755,  46362.21827695,  19138.17651763],\n",
       "       [177594.33977924,  51239.05932171,  20136.55145404],\n",
       "       [193876.17175877,  55583.87628079,  20769.93635814],\n",
       "       [208529.82054034,  59468.74298514,  21103.2113987 ]])"
      ]
     },
     "execution_count": 250,
     "metadata": {},
     "output_type": "execute_result"
    }
   ],
   "source": [
    "theta_history[:10]"
   ]
  },
  {
   "cell_type": "code",
   "execution_count": 251,
   "metadata": {},
   "outputs": [
    {
     "data": {
      "text/plain": [
       "array([[340412.65957445, 110630.88284824,  -6649.30684021],\n",
       "       [340412.65957445, 110630.89005898,  -6649.31405095],\n",
       "       [340412.65957445, 110630.89695918,  -6649.32095115],\n",
       "       [340412.65957445, 110630.9035622 ,  -6649.32755417],\n",
       "       [340412.65957446, 110630.90988085,  -6649.33387283],\n",
       "       [340412.65957446, 110630.91592738,  -6649.33991935],\n",
       "       [340412.65957446, 110630.9217135 ,  -6649.34570547],\n",
       "       [340412.65957446, 110630.92725043,  -6649.3512424 ],\n",
       "       [340412.65957446, 110630.9325489 ,  -6649.35654087],\n",
       "       [340412.65957446, 110630.93761918,  -6649.36161115]])"
      ]
     },
     "execution_count": 251,
     "metadata": {},
     "output_type": "execute_result"
    }
   ],
   "source": [
    "theta_history[-10:]"
   ]
  },
  {
   "cell_type": "code",
   "execution_count": 252,
   "metadata": {},
   "outputs": [
    {
     "data": {
      "application/vnd.plotly.v1+json": {
       "config": {
        "plotlyServerURL": "https://plot.ly"
       },
       "data": [
        {
         "mode": "lines",
         "name": "theta_0",
         "type": "scatter",
         "y": [
          0,
          34041.26595744681,
          64678.40531914894,
          92251.83074468085,
          117067.91362765957,
          139402.3882223404,
          159503.41535755317,
          177594.33977924465,
          193876.17175876698,
          208529.8205403371,
          221718.1044437502,
          233587.559956822,
          244270.0699185866,
          253884.32888417476,
          262537.1619532041,
          270324.7117153305,
          277333.50650124426,
          283641.42180856667,
          289318.5455851568,
          294427.95698408794,
          299026.427243126,
          303165.0504762602,
          306889.811386081,
          310242.0962049197,
          313259.1525418745,
          315974.50324513385,
          318418.31887806725,
          320617.7529477073,
          322597.24361038336,
          324378.7852067918,
          325982.17264355946,
          327425.2213366503,
          328723.9651604321,
          329892.8346018357,
          330944.81709909893,
          331891.60134663584,
          332743.7071694191,
          333510.602409924,
          334200.8081263784,
          334821.99327118736,
          335381.05990151543,
          335884.2198688107,
          336337.06383937644,
          336744.6234128856,
          337111.42702904384,
          337441.55028358626,
          337738.66121267446,
          338006.0610488538,
          338246.7209014152,
          338463.31476872053,
          338658.2492492953,
          338833.69028181257,
          338991.5872110781,
          339133.6944474171,
          339261.5909601222,
          339376.69782155677,
          339480.2939968479,
          339573.5305546099,
          339657.4434565957,
          339732.96506838297,
          339800.9345189915,
          339862.10702453915,
          339917.16227953206,
          339966.7120090257,
          340011.3067655699,
          340051.4420464597,
          340087.56379926053,
          340120.0733767813,
          340149.33199654997,
          340175.66475434176,
          340199.3642363544,
          340220.6937701658,
          340239.890350596,
          340257.1672729832,
          340272.71650313167,
          340286.71081026533,
          340299.3056866856,
          340310.64107546385,
          340320.84292536427,
          340330.02459027467,
          340338.288088694,
          340345.7252372714,
          340352.4186709911,
          340358.4427613388,
          340363.8644426517,
          340368.7439558333,
          340373.1355176968,
          340377.0879233739,
          340380.64508848335,
          340383.8465370818,
          340386.72784082044,
          340389.3210141852,
          340391.6548702135,
          340393.7553406389,
          340395.64576402184,
          340397.3471450665,
          340398.87838800665,
          340400.2565066528,
          340401.49681343435,
          340402.6130895377,
          340403.61773803073,
          340404.5219216745,
          340405.33568695385,
          340406.06807570526,
          340406.72722558153,
          340407.3204604702,
          340407.85437187,
          340408.3348921298,
          340408.7673603636,
          340409.15658177406,
          340409.5068810435,
          340409.82215038594,
          340410.10589279415,
          340410.36126096157,
          340410.59109231224,
          340410.79794052785,
          340410.98410392186,
          340411.1516509765,
          340411.30244332564,
          340411.43815643986,
          340411.56029824266,
          340411.6702258652,
          340411.76916072547,
          340411.85820209974,
          340411.9383393366,
          340412.01046284975,
          340412.0753740116,
          340412.13379405724,
          340412.18637209834,
          340412.2336923353,
          340412.2762805486,
          340412.3146099406,
          340412.34910639335,
          340412.3801532008,
          340412.40809532756,
          340412.4332432416,
          340412.45587636426,
          340412.47624617466,
          340412.494579004,
          340412.5110785504,
          340412.5259281422,
          340412.5392927748,
          340412.55132094416,
          340412.56214629655,
          340412.5718891137,
          340412.58065764914,
          340412.58854933106,
          340412.59565184475,
          340412.6020441071,
          340412.6077971432,
          340412.6129748757,
          340412.61763483495,
          340412.62182879826,
          340412.62560336525,
          340412.6290004755,
          340412.63205787475,
          340412.63480953407,
          340412.6372860275,
          340412.6395148715,
          340412.64152083115,
          340412.64332619484,
          340412.6449510222,
          340412.6464133668,
          340412.6477294769,
          340412.64891397604,
          340412.64998002525,
          340412.6509394695,
          340412.6518029694,
          340412.65258011926,
          340412.65327955416,
          340412.65390904556,
          340412.6544755878,
          340412.6549854759,
          340412.6554443751,
          340412.65585738444,
          340412.6562290928,
          340412.6565636303,
          340412.6568647141,
          340412.6571356895,
          340412.6573795674,
          340412.6575990575,
          340412.65779659856,
          340412.65797438554,
          340412.6581343938,
          340412.65827840124,
          340412.65840800793,
          340412.65852465393,
          340412.65862963535,
          340412.6587241186,
          340412.65880915354,
          340412.65888568497,
          340412.65895456326,
          340412.6590165537,
          340412.6590723452,
          340412.6591225575,
          340412.6591677485,
          340412.6592084205,
          340412.65924502525,
          340412.6592779695,
          340412.6593076194,
          340412.6593343043,
          340412.65935832064,
          340412.65937993536,
          340412.65939938865,
          340412.6594168966,
          340412.65943265375,
          340412.65944683517,
          340412.6594595985,
          340412.65947108547,
          340412.65948142373,
          340412.65949072817,
          340412.65949910216,
          340412.65950663877,
          340412.6595134217,
          340412.65951952635,
          340412.6595250205,
          340412.65952996525,
          340412.6595344155,
          340412.6595384208,
          340412.65954202553,
          340412.6595452698,
          340412.6595481896,
          340412.65955081745,
          340412.6595531825,
          340412.659555311,
          340412.65955722675,
          340412.65955895087,
          340412.65956050257,
          340412.65956189914,
          340412.659563156,
          340412.6595642872,
          340412.65956530534,
          340412.6595662216,
          340412.6595670462,
          340412.6595677884,
          340412.6595684564,
          340412.6595690576,
          340412.6595695986,
          340412.6595700856,
          340412.6595705238,
          340412.65957091824,
          340412.65957127325,
          340412.65957159275,
          340412.6595718803,
          340412.6595721391,
          340412.659572372,
          340412.6595725816,
          340412.65957277024,
          340412.65957294,
          340412.6595730928,
          340412.65957323037,
          340412.6595733541,
          340412.6595734655,
          340412.65957356576,
          340412.659573656,
          340412.6595737372,
          340412.6595738103,
          340412.65957387607,
          340412.65957393526,
          340412.6595739885,
          340412.6595740365,
          340412.6595740796,
          340412.65957411844,
          340412.6595741534,
          340412.6595741849,
          340412.65957421326,
          340412.65957423876,
          340412.6595742617,
          340412.65957428236,
          340412.6595743009,
          340412.65957431763,
          340412.65957433265,
          340412.6595743462,
          340412.6595743584,
          340412.6595743693,
          340412.6595743792,
          340412.6595743881,
          340412.6595743961,
          340412.6595744033,
          340412.6595744098,
          340412.6595744156,
          340412.65957442083,
          340412.65957442555,
          340412.6595744298,
          340412.65957443364,
          340412.6595744371,
          340412.65957444016,
          340412.65957444295,
          340412.65957444545,
          340412.6595744477,
          340412.65957444976,
          340412.65957445157,
          340412.6595744532,
          340412.6595744547,
          340412.65957445605,
          340412.65957445727,
          340412.6595744584,
          340412.65957445937,
          340412.65957446024,
          340412.65957446105
         ]
        },
        {
         "mode": "lines",
         "name": "theta_1",
         "type": "scatter",
         "y": [
          0,
          10463.293376618245,
          19605.893264289,
          27617.51832108549,
          34659.43484055933,
          40868.77867961803,
          46362.21827694793,
          51239.05932171112,
          55583.876280789205,
          59468.742985138655,
          62955.12345402821,
          66095.47479684604,
          68934.6061188844,
          71510.83065234628,
          73856.94265232341,
          76001.0457833779,
          77967.25564319552,
          79776.29561335787,
          81446.00229852658,
          82991.75433368533,
          84426.83623628312,
          85762.74719832592,
          87009.46320366471,
          88175.6595764014,
          89268.89998229123,
          90295.79698645034,
          91262.14849231558,
          92173.05372724599,
          93033.01188126512,
          93846.0060318506,
          94615.57458636259,
          95344.87213362982,
          96036.72130803371,
          96693.65702522428,
          97317.96424165466,
          97911.71021474575,
          98476.77209187056,
          99014.8605303941,
          99527.5399442608,
          100016.24588215421,
          100482.29996557954,
          100926.92275023332,
          101351.24481894217,
          101756.31636776324,
          102143.11550726189,
          102512.55546743129,
          102865.49086627662,
          103202.72317797114,
          103525.00551604557,
          103833.04682973419,
          104127.51559689779,
          104409.04308447342,
          104678.22623682278,
          104935.63024337759,
          105181.79082936575,
          105417.21630694065,
          105642.38941855091,
          105857.76899973158,
          106063.7914845431,
          106260.8722735256,
          106449.40698118144,
          106629.77257757288,
          106802.32843655879,
          106967.41730143869,
          107125.36617727876,
          107276.48715792192,
          107421.0781945998,
          107559.42381214003,
          107691.7957779725,
          107818.45372846503,
          107939.64575654174,
          108055.60896404447,
          108166.56998187497,
          108272.7454605924,
          108374.34253382937,
          108471.55925662126,
          108564.58502051215,
          108653.60094710132,
          108738.78026152066,
          108820.28864718392,
          108898.28458301788,
          108972.91966427198,
          109044.33890790323,
          109112.68104344662,
          109178.0787902037,
          109240.65912151529,
          109300.54351682366,
          109357.84820217674,
          109412.68437977936,
          109465.15844715406,
          109515.37220643602,
          109563.42306429219,
          109609.4042229237,
          109653.40486258238,
          109695.51031600666,
          109735.80223515832,
          109774.35875062025,
          109811.25462399547,
          109846.56139362922,
          109880.34751395902,
          109912.67848878179,
          109943.61699871258,
          109973.2230230954,
          110001.5539566142,
          110028.66472083966,
          110054.60787093651,
          110079.43369774499,
          110103.19032544045,
          110125.92380496544,
          110147.67820341953,
          110168.49568958384,
          110188.41661574911,
          110207.47959600856,
          110225.72158116936,
          110243.17793042996,
          110259.8824799636,
          110275.86760854254,
          110291.16430033093,
          110305.80220496947,
          110319.8096950688,
          110333.21392122384,
          110346.04086465637,
          110358.31538758826,
          110370.0612814435,
          110381.30131297282,
          110392.05726839048,
          110402.34999560915,
          110412.19944465502,
          110421.6247063414,
          110430.64404927625,
          110439.2749552752,
          110447.53415324913,
          110455.43765163167,
          110463.00076941005,
          110470.23816581907,
          110477.16386875609,
          110483.79130197199,
          110490.13331109098,
          110496.20218850963,
          110502.00969722348,
          110507.56709362731,
          110512.88514933352,
          110517.97417205067,
          110522.84402556276,
          110527.50414884814,
          110531.96357437484,
          110536.230945608,
          110540.31453376327,
          110544.22225383866,
          110547.96167995584,
          110551.54006004092,
          110554.9643298727,
          110558.2411265261,
          110561.37680123647,
          110564.37743170993,
          110567.2488339035,
          110569.99657329793,
          110572.62597568499,
          110575.1421374902,
          110577.54993565097,
          110579.85403706934,
          110582.05890765757,
          110584.16882099425,
          110586.18786660749,
          110588.11995790148,
          110589.96883974162,
          110591.738095713,
          110593.43115506627,
          110595.05129936438,
          110596.60166884305,
          110598.08526849732,
          110599.50497390596,
          110600.86353680507,
          110602.16359042161,
          110603.40765457723,
          110604.5981405723,
          110605.73735585966,
          110606.82750851693,
          110607.87071152637,
          110608.86898687035,
          110609.82426945046,
          110610.73841083777,
          110611.61318286168,
          110612.45028104413,
          110613.25132788597,
          110614.0178760117,
          110614.7514111789,
          110615.453355158,
          110616.12506848792,
          110616.76785311326,
          110617.38295490768,
          110617.97156608875,
          110618.53482752877,
          110619.07383096605,
          110619.58962112095,
          110620.08319772081,
          110620.55551743772,
          110621.00749574267,
          110621.44000868007,
          110621.85389456568,
          110622.24995561146,
          110622.62895948051,
          110622.99164077493,
          110623.33870245967,
          110623.67081722511,
          110623.9886287908,
          110624.29275315322,
          110624.58377977967,
          110624.86227275089,
          110625.12877185429,
          110625.38379363026,
          110625.62783237331,
          110625.86136109015,
          110626.0848324165,
          110626.2986794944,
          110626.50331681174,
          110626.69914100562,
          110626.8865316312,
          110627.06585189729,
          110627.23744937038,
          110627.4016566483,
          110627.5587920049,
          110627.70916000687,
          110627.85305210414,
          110627.99074719477,
          110628.12251216549,
          110628.24860240899,
          110628.36926231899,
          110628.48472576386,
          110628.59521654,
          110628.70094880549,
          110628.80212749532,
          110628.89894871852,
          110628.99160013827,
          110629.08026133565,
          110629.16510415774,
          110629.24629305066,
          110629.3239853783,
          110629.3983317274,
          110629.46947619933,
          110629.53755668948,
          110629.60270515447,
          110629.66504786794,
          110629.7247056653,
          110629.78179417794,
          110629.83642405734,
          110629.88870118957,
          110629.93872690048,
          110629.98659815211,
          110630.03240773066,
          110630.07624442627,
          110630.11819320517,
          110630.15833537436,
          110630.19674873915,
          110630.23350775405,
          110630.26868366699,
          110630.3023446575,
          110630.3345559688,
          110630.36538003429,
          110630.39487659853,
          110630.42310283305,
          110630.45011344722,
          110630.47596079421,
          110630.50069497248,
          110630.52436392292,
          110630.54701352173,
          110630.56868766938,
          110630.58942837565,
          110630.6092758411,
          110630.62826853497,
          110630.64644326974,
          110630.66383527248,
          110630.68047825317,
          110630.69640446994,
          110630.7116447917,
          110630.72622875794,
          110630.74018463591,
          110630.75353947554,
          110630.76631916176,
          110630.77854846472,
          110630.7902510878,
          110630.80144971356,
          110630.81216604766,
          110630.82242086098,
          110630.83223402983,
          110630.84162457456,
          110630.85061069633,
          110630.85920981244,
          110630.86743859007,
          110630.8753129786,
          110630.88284824055,
          110630.89005898107,
          110630.89695917633,
          110630.90356220062,
          110630.9098808522,
          110630.91592737816,
          110630.92171349814,
          110630.92725042708,
          110630.93254889688,
          110630.93761917726
         ]
        },
        {
         "mode": "lines",
         "name": "theta_2",
         "type": "scatter",
         "y": [
          0,
          5412.368384407585,
          9721.57166639987,
          13107.960200418518,
          15723.835441486834,
          17697.754497039707,
          19138.176517633885,
          20136.551454038647,
          20769.93635813904,
          21103.211398704134,
          21190.956742549395,
          21079.042113755753,
          20805.972931491928,
          20404.030222937163,
          19900.235827371904,
          19317.16959440716,
          18673.661201134746,
          17985.375757493683,
          17265.309441288035,
          16524.208923498973,
          15770.926242550007,
          15012.719005171164,
          14255.504282458494,
          13504.073291115186,
          12762.272866504823,
          12033.158816233477,
          11319.125465244346,
          10622.015044452537,
          9943.21001663238,
          9283.710960228107,
          8644.202230970359,
          8025.107281612835,
          7426.635232407358,
          6848.820041190802,
          6291.553415452246,
          5754.612433796421,
          5237.682696001857,
          4740.377695306067,
          4262.255000176465,
          3802.8297427131547,
          3361.585834494915,
          2937.9852660179713,
          2531.4757911057027,
          2141.4972512753357,
          1767.486755754953,
          1408.8828995660901,
          1065.129173904927,
          735.6766991898594,
          419.9863909353528,
          117.53065150253798,
          -172.2053337078114,
          -449.72262931547766,
          -715.507856347607,
          -970.0327248078466,
          -1213.7537527146333,
          -1447.1121381817798,
          -1670.5337564315987,
          -1884.4292581267955,
          -2089.1942492081594,
          -2285.2095356371537,
          -2472.841419156118,
          -2652.442032470389,
          -2824.3497041909695,
          -2988.889345508317,
          -3146.372851943899,
          -3297.099514685558,
          -3441.3564369890682,
          -3579.4189519495044,
          -3711.55103863631,
          -3838.005734165333,
          -3959.02553976693,
          -4074.842819315831,
          -4185.6801891282885,
          -4291.750898115423,
          -4393.259197617403,
          -4490.400700438745,
          -4583.362728766777,
          -4672.324650788489,
          -4757.4582059303475,
          -4838.927818734683,
          -4916.890901458376,
          -4991.4981455375755,
          -5062.893802108145,
          -5131.2159518076305,
          -5196.596764112318,
          -5259.162746483762,
          -5319.034983614318,
          -5376.329367071493,
          -5431.156815647372,
          -5483.623486722549,
          -5533.83097895456,
          -5581.876526599189,
          -5627.853185769722,
          -5671.850012934524,
          -5713.952235947498,
          -5754.241417899422,
          -5792.795614070816,
          -5829.68952225931,
          -5864.994626746408,
          -5898.779336160207,
          -5931.109115482313,
          -5962.046612438662,
          -5991.651778505594,
          -6019.981984754144,
          -6047.092132747272,
          -6073.0347606966825,
          -6097.860145077953,
          -6121.616397894954,
          -6144.349559777048,
          -6166.103689085204,
          -6186.920947196142,
          -6206.8416801266985,
          -6225.904496654047,
          -6244.146343080979,
          -6261.602574789266,
          -6278.307024718223,
          -6294.292068899868,
          -6309.588689176546,
          -6324.226533221617,
          -6338.233971978743,
          -6351.638154630391,
          -6364.46506120152,
          -6376.7395528999195,
          -6388.485420290337,
          -6399.725429395415,
          -6410.481365812504,
          -6420.774076931579,
          -6430.623512335895,
          -6440.048762463484,
          -6449.068095604304,
          -6457.69899330457,
          -6465.958184246817,
          -6473.8616766712685,
          -6481.424789401225,
          -6488.662181532607,
          -6495.587880845082,
          -6502.215310989822,
          -6508.557317506549,
          -6514.626192720251,
          -6520.43369956579,
          -6525.991094386571,
          -6531.3091487514275,
          -6536.398170332002,
          -6541.268022881059,
          -6545.928145350437,
          -6550.3875701857205,
          -6554.654940833033,
          -6558.738528491902,
          -6562.6462481466615,
          -6566.385673907452,
          -6569.964053690545,
          -6573.388323266455,
          -6576.665119703047,
          -6579.800794229704,
          -6582.801424547494,
          -6585.672826609166,
          -6588.420565891842,
          -6591.049968184211,
          -6593.566129909184,
          -6595.973928001968,
          -6598.278029362725,
          -6600.482899902149,
          -6602.592813197471,
          -6604.611858775669,
          -6606.543950039966,
          -6608.392831854947,
          -6610.162087805012,
          -6611.855147140223,
          -6613.47529142303,
          -6615.025660888731,
          -6616.509260532008,
          -6617.9289659313345,
          -6619.287528822555,
          -6620.587582432406,
          -6621.831646582358,
          -6623.022132572639,
          -6624.161347855925,
          -6625.251500509743,
          -6626.294703516265,
          -6627.29297885778,
          -6628.2482614357905,
          -6629.162402821324,
          -6630.037174843725,
          -6630.874273024901,
          -6631.675319865651,
          -6632.441867990466,
          -6633.1754031569035,
          -6633.877347135342,
          -6634.549060464717,
          -6635.19184508958,
          -6635.806946883595,
          -6636.395558064325,
          -6636.958819504058,
          -6637.497822941089,
          -6638.013613095782,
          -6638.50718969548,
          -6638.979509412235,
          -6639.4314877170655,
          -6639.86400065436,
          -6640.277886539873,
          -6640.673947585581,
          -6641.052951454563,
          -6641.415632748926,
          -6641.7626944336325,
          -6642.094809199029,
          -6642.412620764684,
          -6642.716745127065,
          -6643.007771753499,
          -6643.286264724695,
          -6643.55276382808,
          -6643.807785604033,
          -6644.051824347071,
          -6644.285353063907,
          -6644.508824390251,
          -6644.722671468139,
          -6644.927308785461,
          -6645.123132979341,
          -6645.310523604914,
          -6645.489843870999,
          -6645.661441344089,
          -6645.8256486220125,
          -6645.982783978599,
          -6646.133151980566,
          -6646.277044077843,
          -6646.414739168471,
          -6646.546504139179,
          -6646.6725943826805,
          -6646.793254292676,
          -6646.908717737553,
          -6647.019208513679,
          -6647.124940779177,
          -6647.2261194690145,
          -6647.322940692211,
          -6647.415592111956,
          -6647.504253309339,
          -6647.589096131426,
          -6647.670285024338,
          -6647.747977351987,
          -6647.822323701084,
          -6647.893468173023,
          -6647.961548663175,
          -6648.026697128162,
          -6648.089039841628,
          -6648.148697638986,
          -6648.205786151626,
          -6648.260416031031,
          -6648.312693163259,
          -6648.362718874165,
          -6648.410590125798,
          -6648.456399704345,
          -6648.500236399959,
          -6648.542185178868,
          -6648.582327348054,
          -6648.62074071285,
          -6648.657499727747,
          -6648.692675640693,
          -6648.726336631203,
          -6648.758547942503,
          -6648.789372007986,
          -6648.818868572219,
          -6648.847094806754,
          -6648.874105420928,
          -6648.899952767914,
          -6648.924686946183,
          -6648.948355896617,
          -6648.971005495426,
          -6648.992679643068,
          -6649.013420349336,
          -6649.033267814787,
          -6649.052260508657,
          -6649.0704352434295,
          -6649.08782724618,
          -6649.104470226858,
          -6649.12039644363,
          -6649.135636765394,
          -6649.150220731618,
          -6649.164176609591,
          -6649.177531449215,
          -6649.190311135433,
          -6649.2025404383985,
          -6649.214243061489,
          -6649.225441687247,
          -6649.236158021347,
          -6649.246412834663,
          -6649.256226003527,
          -6649.2656165482595,
          -6649.2746026700315,
          -6649.283201786139,
          -6649.291430563771,
          -6649.299304952315,
          -6649.3068402142535,
          -6649.31405095477,
          -6649.320951150039,
          -6649.327554174324,
          -6649.333872825901,
          -6649.33991935186,
          -6649.345705471846,
          -6649.351242400774,
          -6649.356540870565,
          -6649.361611150947
         ]
        }
       ],
       "layout": {
        "autosize": false,
        "height": 1000,
        "template": {
         "data": {
          "bar": [
           {
            "error_x": {
             "color": "#2a3f5f"
            },
            "error_y": {
             "color": "#2a3f5f"
            },
            "marker": {
             "line": {
              "color": "#E5ECF6",
              "width": 0.5
             }
            },
            "type": "bar"
           }
          ],
          "barpolar": [
           {
            "marker": {
             "line": {
              "color": "#E5ECF6",
              "width": 0.5
             }
            },
            "type": "barpolar"
           }
          ],
          "carpet": [
           {
            "aaxis": {
             "endlinecolor": "#2a3f5f",
             "gridcolor": "white",
             "linecolor": "white",
             "minorgridcolor": "white",
             "startlinecolor": "#2a3f5f"
            },
            "baxis": {
             "endlinecolor": "#2a3f5f",
             "gridcolor": "white",
             "linecolor": "white",
             "minorgridcolor": "white",
             "startlinecolor": "#2a3f5f"
            },
            "type": "carpet"
           }
          ],
          "choropleth": [
           {
            "colorbar": {
             "outlinewidth": 0,
             "ticks": ""
            },
            "type": "choropleth"
           }
          ],
          "contour": [
           {
            "colorbar": {
             "outlinewidth": 0,
             "ticks": ""
            },
            "colorscale": [
             [
              0,
              "#0d0887"
             ],
             [
              0.1111111111111111,
              "#46039f"
             ],
             [
              0.2222222222222222,
              "#7201a8"
             ],
             [
              0.3333333333333333,
              "#9c179e"
             ],
             [
              0.4444444444444444,
              "#bd3786"
             ],
             [
              0.5555555555555556,
              "#d8576b"
             ],
             [
              0.6666666666666666,
              "#ed7953"
             ],
             [
              0.7777777777777778,
              "#fb9f3a"
             ],
             [
              0.8888888888888888,
              "#fdca26"
             ],
             [
              1,
              "#f0f921"
             ]
            ],
            "type": "contour"
           }
          ],
          "contourcarpet": [
           {
            "colorbar": {
             "outlinewidth": 0,
             "ticks": ""
            },
            "type": "contourcarpet"
           }
          ],
          "heatmap": [
           {
            "colorbar": {
             "outlinewidth": 0,
             "ticks": ""
            },
            "colorscale": [
             [
              0,
              "#0d0887"
             ],
             [
              0.1111111111111111,
              "#46039f"
             ],
             [
              0.2222222222222222,
              "#7201a8"
             ],
             [
              0.3333333333333333,
              "#9c179e"
             ],
             [
              0.4444444444444444,
              "#bd3786"
             ],
             [
              0.5555555555555556,
              "#d8576b"
             ],
             [
              0.6666666666666666,
              "#ed7953"
             ],
             [
              0.7777777777777778,
              "#fb9f3a"
             ],
             [
              0.8888888888888888,
              "#fdca26"
             ],
             [
              1,
              "#f0f921"
             ]
            ],
            "type": "heatmap"
           }
          ],
          "heatmapgl": [
           {
            "colorbar": {
             "outlinewidth": 0,
             "ticks": ""
            },
            "colorscale": [
             [
              0,
              "#0d0887"
             ],
             [
              0.1111111111111111,
              "#46039f"
             ],
             [
              0.2222222222222222,
              "#7201a8"
             ],
             [
              0.3333333333333333,
              "#9c179e"
             ],
             [
              0.4444444444444444,
              "#bd3786"
             ],
             [
              0.5555555555555556,
              "#d8576b"
             ],
             [
              0.6666666666666666,
              "#ed7953"
             ],
             [
              0.7777777777777778,
              "#fb9f3a"
             ],
             [
              0.8888888888888888,
              "#fdca26"
             ],
             [
              1,
              "#f0f921"
             ]
            ],
            "type": "heatmapgl"
           }
          ],
          "histogram": [
           {
            "marker": {
             "colorbar": {
              "outlinewidth": 0,
              "ticks": ""
             }
            },
            "type": "histogram"
           }
          ],
          "histogram2d": [
           {
            "colorbar": {
             "outlinewidth": 0,
             "ticks": ""
            },
            "colorscale": [
             [
              0,
              "#0d0887"
             ],
             [
              0.1111111111111111,
              "#46039f"
             ],
             [
              0.2222222222222222,
              "#7201a8"
             ],
             [
              0.3333333333333333,
              "#9c179e"
             ],
             [
              0.4444444444444444,
              "#bd3786"
             ],
             [
              0.5555555555555556,
              "#d8576b"
             ],
             [
              0.6666666666666666,
              "#ed7953"
             ],
             [
              0.7777777777777778,
              "#fb9f3a"
             ],
             [
              0.8888888888888888,
              "#fdca26"
             ],
             [
              1,
              "#f0f921"
             ]
            ],
            "type": "histogram2d"
           }
          ],
          "histogram2dcontour": [
           {
            "colorbar": {
             "outlinewidth": 0,
             "ticks": ""
            },
            "colorscale": [
             [
              0,
              "#0d0887"
             ],
             [
              0.1111111111111111,
              "#46039f"
             ],
             [
              0.2222222222222222,
              "#7201a8"
             ],
             [
              0.3333333333333333,
              "#9c179e"
             ],
             [
              0.4444444444444444,
              "#bd3786"
             ],
             [
              0.5555555555555556,
              "#d8576b"
             ],
             [
              0.6666666666666666,
              "#ed7953"
             ],
             [
              0.7777777777777778,
              "#fb9f3a"
             ],
             [
              0.8888888888888888,
              "#fdca26"
             ],
             [
              1,
              "#f0f921"
             ]
            ],
            "type": "histogram2dcontour"
           }
          ],
          "mesh3d": [
           {
            "colorbar": {
             "outlinewidth": 0,
             "ticks": ""
            },
            "type": "mesh3d"
           }
          ],
          "parcoords": [
           {
            "line": {
             "colorbar": {
              "outlinewidth": 0,
              "ticks": ""
             }
            },
            "type": "parcoords"
           }
          ],
          "pie": [
           {
            "automargin": true,
            "type": "pie"
           }
          ],
          "scatter": [
           {
            "marker": {
             "colorbar": {
              "outlinewidth": 0,
              "ticks": ""
             }
            },
            "type": "scatter"
           }
          ],
          "scatter3d": [
           {
            "line": {
             "colorbar": {
              "outlinewidth": 0,
              "ticks": ""
             }
            },
            "marker": {
             "colorbar": {
              "outlinewidth": 0,
              "ticks": ""
             }
            },
            "type": "scatter3d"
           }
          ],
          "scattercarpet": [
           {
            "marker": {
             "colorbar": {
              "outlinewidth": 0,
              "ticks": ""
             }
            },
            "type": "scattercarpet"
           }
          ],
          "scattergeo": [
           {
            "marker": {
             "colorbar": {
              "outlinewidth": 0,
              "ticks": ""
             }
            },
            "type": "scattergeo"
           }
          ],
          "scattergl": [
           {
            "marker": {
             "colorbar": {
              "outlinewidth": 0,
              "ticks": ""
             }
            },
            "type": "scattergl"
           }
          ],
          "scattermapbox": [
           {
            "marker": {
             "colorbar": {
              "outlinewidth": 0,
              "ticks": ""
             }
            },
            "type": "scattermapbox"
           }
          ],
          "scatterpolar": [
           {
            "marker": {
             "colorbar": {
              "outlinewidth": 0,
              "ticks": ""
             }
            },
            "type": "scatterpolar"
           }
          ],
          "scatterpolargl": [
           {
            "marker": {
             "colorbar": {
              "outlinewidth": 0,
              "ticks": ""
             }
            },
            "type": "scatterpolargl"
           }
          ],
          "scatterternary": [
           {
            "marker": {
             "colorbar": {
              "outlinewidth": 0,
              "ticks": ""
             }
            },
            "type": "scatterternary"
           }
          ],
          "surface": [
           {
            "colorbar": {
             "outlinewidth": 0,
             "ticks": ""
            },
            "colorscale": [
             [
              0,
              "#0d0887"
             ],
             [
              0.1111111111111111,
              "#46039f"
             ],
             [
              0.2222222222222222,
              "#7201a8"
             ],
             [
              0.3333333333333333,
              "#9c179e"
             ],
             [
              0.4444444444444444,
              "#bd3786"
             ],
             [
              0.5555555555555556,
              "#d8576b"
             ],
             [
              0.6666666666666666,
              "#ed7953"
             ],
             [
              0.7777777777777778,
              "#fb9f3a"
             ],
             [
              0.8888888888888888,
              "#fdca26"
             ],
             [
              1,
              "#f0f921"
             ]
            ],
            "type": "surface"
           }
          ],
          "table": [
           {
            "cells": {
             "fill": {
              "color": "#EBF0F8"
             },
             "line": {
              "color": "white"
             }
            },
            "header": {
             "fill": {
              "color": "#C8D4E3"
             },
             "line": {
              "color": "white"
             }
            },
            "type": "table"
           }
          ]
         },
         "layout": {
          "annotationdefaults": {
           "arrowcolor": "#2a3f5f",
           "arrowhead": 0,
           "arrowwidth": 1
          },
          "coloraxis": {
           "colorbar": {
            "outlinewidth": 0,
            "ticks": ""
           }
          },
          "colorscale": {
           "diverging": [
            [
             0,
             "#8e0152"
            ],
            [
             0.1,
             "#c51b7d"
            ],
            [
             0.2,
             "#de77ae"
            ],
            [
             0.3,
             "#f1b6da"
            ],
            [
             0.4,
             "#fde0ef"
            ],
            [
             0.5,
             "#f7f7f7"
            ],
            [
             0.6,
             "#e6f5d0"
            ],
            [
             0.7,
             "#b8e186"
            ],
            [
             0.8,
             "#7fbc41"
            ],
            [
             0.9,
             "#4d9221"
            ],
            [
             1,
             "#276419"
            ]
           ],
           "sequential": [
            [
             0,
             "#0d0887"
            ],
            [
             0.1111111111111111,
             "#46039f"
            ],
            [
             0.2222222222222222,
             "#7201a8"
            ],
            [
             0.3333333333333333,
             "#9c179e"
            ],
            [
             0.4444444444444444,
             "#bd3786"
            ],
            [
             0.5555555555555556,
             "#d8576b"
            ],
            [
             0.6666666666666666,
             "#ed7953"
            ],
            [
             0.7777777777777778,
             "#fb9f3a"
            ],
            [
             0.8888888888888888,
             "#fdca26"
            ],
            [
             1,
             "#f0f921"
            ]
           ],
           "sequentialminus": [
            [
             0,
             "#0d0887"
            ],
            [
             0.1111111111111111,
             "#46039f"
            ],
            [
             0.2222222222222222,
             "#7201a8"
            ],
            [
             0.3333333333333333,
             "#9c179e"
            ],
            [
             0.4444444444444444,
             "#bd3786"
            ],
            [
             0.5555555555555556,
             "#d8576b"
            ],
            [
             0.6666666666666666,
             "#ed7953"
            ],
            [
             0.7777777777777778,
             "#fb9f3a"
            ],
            [
             0.8888888888888888,
             "#fdca26"
            ],
            [
             1,
             "#f0f921"
            ]
           ]
          },
          "colorway": [
           "#636efa",
           "#EF553B",
           "#00cc96",
           "#ab63fa",
           "#FFA15A",
           "#19d3f3",
           "#FF6692",
           "#B6E880",
           "#FF97FF",
           "#FECB52"
          ],
          "font": {
           "color": "#2a3f5f"
          },
          "geo": {
           "bgcolor": "white",
           "lakecolor": "white",
           "landcolor": "#E5ECF6",
           "showlakes": true,
           "showland": true,
           "subunitcolor": "white"
          },
          "hoverlabel": {
           "align": "left"
          },
          "hovermode": "closest",
          "mapbox": {
           "style": "light"
          },
          "paper_bgcolor": "white",
          "plot_bgcolor": "#E5ECF6",
          "polar": {
           "angularaxis": {
            "gridcolor": "white",
            "linecolor": "white",
            "ticks": ""
           },
           "bgcolor": "#E5ECF6",
           "radialaxis": {
            "gridcolor": "white",
            "linecolor": "white",
            "ticks": ""
           }
          },
          "scene": {
           "xaxis": {
            "backgroundcolor": "#E5ECF6",
            "gridcolor": "white",
            "gridwidth": 2,
            "linecolor": "white",
            "showbackground": true,
            "ticks": "",
            "zerolinecolor": "white"
           },
           "yaxis": {
            "backgroundcolor": "#E5ECF6",
            "gridcolor": "white",
            "gridwidth": 2,
            "linecolor": "white",
            "showbackground": true,
            "ticks": "",
            "zerolinecolor": "white"
           },
           "zaxis": {
            "backgroundcolor": "#E5ECF6",
            "gridcolor": "white",
            "gridwidth": 2,
            "linecolor": "white",
            "showbackground": true,
            "ticks": "",
            "zerolinecolor": "white"
           }
          },
          "shapedefaults": {
           "line": {
            "color": "#2a3f5f"
           }
          },
          "ternary": {
           "aaxis": {
            "gridcolor": "white",
            "linecolor": "white",
            "ticks": ""
           },
           "baxis": {
            "gridcolor": "white",
            "linecolor": "white",
            "ticks": ""
           },
           "bgcolor": "#E5ECF6",
           "caxis": {
            "gridcolor": "white",
            "linecolor": "white",
            "ticks": ""
           }
          },
          "title": {
           "x": 0.05
          },
          "xaxis": {
           "automargin": true,
           "gridcolor": "white",
           "linecolor": "white",
           "ticks": "",
           "title": {
            "standoff": 15
           },
           "zerolinecolor": "white",
           "zerolinewidth": 2
          },
          "yaxis": {
           "automargin": true,
           "gridcolor": "white",
           "linecolor": "white",
           "ticks": "",
           "title": {
            "standoff": 15
           },
           "zerolinecolor": "white",
           "zerolinewidth": 2
          }
         }
        },
        "width": 1000,
        "xaxis": {
         "autorange": true,
         "range": [
          0,
          299
         ],
         "title": {
          "text": "Number of iterations"
         }
        },
        "yaxis": {
         "autorange": true,
         "range": [
          -25930.585010351613,
          359693.8829736617
         ],
         "title": {
          "text": "theta value"
         },
         "type": "linear"
        }
       }
      },
      "image/png": "[encoded data removed]",
      "text/html": [
       "<div>\n",
       "        \n",
       "        \n",
       "            <div id=\"513263ab-dd9f-4828-b25c-a8230cfbc276\" class=\"plotly-graph-div\" style=\"height:1000px; width:1000px;\"></div>\n",
       "            <script type=\"text/javascript\">\n",
       "                require([\"plotly\"], function(Plotly) {\n",
       "                    window.PLOTLYENV=window.PLOTLYENV || {};\n",
       "                    \n",
       "                if (document.getElementById(\"513263ab-dd9f-4828-b25c-a8230cfbc276\")) {\n",
       "                    Plotly.newPlot(\n",
       "                        '513263ab-dd9f-4828-b25c-a8230cfbc276',\n",
       "                        [{\"mode\": \"lines\", \"name\": \"theta_0\", \"type\": \"scatter\", \"y\": [0.0, 34041.26595744681, 64678.40531914894, 92251.83074468085, 117067.91362765957, 139402.3882223404, 159503.41535755317, 177594.33977924465, 193876.17175876698, 208529.8205403371, 221718.1044437502, 233587.559956822, 244270.0699185866, 253884.32888417476, 262537.1619532041, 270324.7117153305, 277333.50650124426, 283641.42180856667, 289318.5455851568, 294427.95698408794, 299026.427243126, 303165.0504762602, 306889.811386081, 310242.0962049197, 313259.1525418745, 315974.50324513385, 318418.31887806725, 320617.7529477073, 322597.24361038336, 324378.7852067918, 325982.17264355946, 327425.2213366503, 328723.9651604321, 329892.8346018357, 330944.81709909893, 331891.60134663584, 332743.7071694191, 333510.602409924, 334200.8081263784, 334821.99327118736, 335381.05990151543, 335884.2198688107, 336337.06383937644, 336744.6234128856, 337111.42702904384, 337441.55028358626, 337738.66121267446, 338006.0610488538, 338246.7209014152, 338463.31476872053, 338658.2492492953, 338833.69028181257, 338991.5872110781, 339133.6944474171, 339261.5909601222, 339376.69782155677, 339480.2939968479, 339573.5305546099, 339657.4434565957, 339732.96506838297, 339800.9345189915, 339862.10702453915, 339917.16227953206, 339966.7120090257, 340011.3067655699, 340051.4420464597, 340087.56379926053, 340120.0733767813, 340149.33199654997, 340175.66475434176, 340199.3642363544, 340220.6937701658, 340239.890350596, 340257.1672729832, 340272.71650313167, 340286.71081026533, 340299.3056866856, 340310.64107546385, 340320.84292536427, 340330.02459027467, 340338.288088694, 340345.7252372714, 340352.4186709911, 340358.4427613388, 340363.8644426517, 340368.7439558333, 340373.1355176968, 340377.0879233739, 340380.64508848335, 340383.8465370818, 340386.72784082044, 340389.3210141852, 340391.6548702135, 340393.7553406389, 340395.64576402184, 340397.3471450665, 340398.87838800665, 340400.2565066528, 340401.49681343435, 340402.6130895377, 340403.61773803073, 340404.5219216745, 340405.33568695385, 340406.06807570526, 340406.72722558153, 340407.3204604702, 340407.85437187, 340408.3348921298, 340408.7673603636, 340409.15658177406, 340409.5068810435, 340409.82215038594, 340410.10589279415, 340410.36126096157, 340410.59109231224, 340410.79794052785, 340410.98410392186, 340411.1516509765, 340411.30244332564, 340411.43815643986, 340411.56029824266, 340411.6702258652, 340411.76916072547, 340411.85820209974, 340411.9383393366, 340412.01046284975, 340412.0753740116, 340412.13379405724, 340412.18637209834, 340412.2336923353, 340412.2762805486, 340412.3146099406, 340412.34910639335, 340412.3801532008, 340412.40809532756, 340412.4332432416, 340412.45587636426, 340412.47624617466, 340412.494579004, 340412.5110785504, 340412.5259281422, 340412.5392927748, 340412.55132094416, 340412.56214629655, 340412.5718891137, 340412.58065764914, 340412.58854933106, 340412.59565184475, 340412.6020441071, 340412.6077971432, 340412.6129748757, 340412.61763483495, 340412.62182879826, 340412.62560336525, 340412.6290004755, 340412.63205787475, 340412.63480953407, 340412.6372860275, 340412.6395148715, 340412.64152083115, 340412.64332619484, 340412.6449510222, 340412.6464133668, 340412.6477294769, 340412.64891397604, 340412.64998002525, 340412.6509394695, 340412.6518029694, 340412.65258011926, 340412.65327955416, 340412.65390904556, 340412.6544755878, 340412.6549854759, 340412.6554443751, 340412.65585738444, 340412.6562290928, 340412.6565636303, 340412.6568647141, 340412.6571356895, 340412.6573795674, 340412.6575990575, 340412.65779659856, 340412.65797438554, 340412.6581343938, 340412.65827840124, 340412.65840800793, 340412.65852465393, 340412.65862963535, 340412.6587241186, 340412.65880915354, 340412.65888568497, 340412.65895456326, 340412.6590165537, 340412.6590723452, 340412.6591225575, 340412.6591677485, 340412.6592084205, 340412.65924502525, 340412.6592779695, 340412.6593076194, 340412.6593343043, 340412.65935832064, 340412.65937993536, 340412.65939938865, 340412.6594168966, 340412.65943265375, 340412.65944683517, 340412.6594595985, 340412.65947108547, 340412.65948142373, 340412.65949072817, 340412.65949910216, 340412.65950663877, 340412.6595134217, 340412.65951952635, 340412.6595250205, 340412.65952996525, 340412.6595344155, 340412.6595384208, 340412.65954202553, 340412.6595452698, 340412.6595481896, 340412.65955081745, 340412.6595531825, 340412.659555311, 340412.65955722675, 340412.65955895087, 340412.65956050257, 340412.65956189914, 340412.659563156, 340412.6595642872, 340412.65956530534, 340412.6595662216, 340412.6595670462, 340412.6595677884, 340412.6595684564, 340412.6595690576, 340412.6595695986, 340412.6595700856, 340412.6595705238, 340412.65957091824, 340412.65957127325, 340412.65957159275, 340412.6595718803, 340412.6595721391, 340412.659572372, 340412.6595725816, 340412.65957277024, 340412.65957294, 340412.6595730928, 340412.65957323037, 340412.6595733541, 340412.6595734655, 340412.65957356576, 340412.659573656, 340412.6595737372, 340412.6595738103, 340412.65957387607, 340412.65957393526, 340412.6595739885, 340412.6595740365, 340412.6595740796, 340412.65957411844, 340412.6595741534, 340412.6595741849, 340412.65957421326, 340412.65957423876, 340412.6595742617, 340412.65957428236, 340412.6595743009, 340412.65957431763, 340412.65957433265, 340412.6595743462, 340412.6595743584, 340412.6595743693, 340412.6595743792, 340412.6595743881, 340412.6595743961, 340412.6595744033, 340412.6595744098, 340412.6595744156, 340412.65957442083, 340412.65957442555, 340412.6595744298, 340412.65957443364, 340412.6595744371, 340412.65957444016, 340412.65957444295, 340412.65957444545, 340412.6595744477, 340412.65957444976, 340412.65957445157, 340412.6595744532, 340412.6595744547, 340412.65957445605, 340412.65957445727, 340412.6595744584, 340412.65957445937, 340412.65957446024, 340412.65957446105]}, {\"mode\": \"lines\", \"name\": \"theta_1\", \"type\": \"scatter\", \"y\": [0.0, 10463.293376618245, 19605.893264289, 27617.51832108549, 34659.43484055933, 40868.77867961803, 46362.21827694793, 51239.05932171112, 55583.876280789205, 59468.742985138655, 62955.12345402821, 66095.47479684604, 68934.6061188844, 71510.83065234628, 73856.94265232341, 76001.0457833779, 77967.25564319552, 79776.29561335787, 81446.00229852658, 82991.75433368533, 84426.83623628312, 85762.74719832592, 87009.46320366471, 88175.6595764014, 89268.89998229123, 90295.79698645034, 91262.14849231558, 92173.05372724599, 93033.01188126512, 93846.0060318506, 94615.57458636259, 95344.87213362982, 96036.72130803371, 96693.65702522428, 97317.96424165466, 97911.71021474575, 98476.77209187056, 99014.8605303941, 99527.5399442608, 100016.24588215421, 100482.29996557954, 100926.92275023332, 101351.24481894217, 101756.31636776324, 102143.11550726189, 102512.55546743129, 102865.49086627662, 103202.72317797114, 103525.00551604557, 103833.04682973419, 104127.51559689779, 104409.04308447342, 104678.22623682278, 104935.63024337759, 105181.79082936575, 105417.21630694065, 105642.38941855091, 105857.76899973158, 106063.7914845431, 106260.8722735256, 106449.40698118144, 106629.77257757288, 106802.32843655879, 106967.41730143869, 107125.36617727876, 107276.48715792192, 107421.0781945998, 107559.42381214003, 107691.7957779725, 107818.45372846503, 107939.64575654174, 108055.60896404447, 108166.56998187497, 108272.7454605924, 108374.34253382937, 108471.55925662126, 108564.58502051215, 108653.60094710132, 108738.78026152066, 108820.28864718392, 108898.28458301788, 108972.91966427198, 109044.33890790323, 109112.68104344662, 109178.0787902037, 109240.65912151529, 109300.54351682366, 109357.84820217674, 109412.68437977936, 109465.15844715406, 109515.37220643602, 109563.42306429219, 109609.4042229237, 109653.40486258238, 109695.51031600666, 109735.80223515832, 109774.35875062025, 109811.25462399547, 109846.56139362922, 109880.34751395902, 109912.67848878179, 109943.61699871258, 109973.2230230954, 110001.5539566142, 110028.66472083966, 110054.60787093651, 110079.43369774499, 110103.19032544045, 110125.92380496544, 110147.67820341953, 110168.49568958384, 110188.41661574911, 110207.47959600856, 110225.72158116936, 110243.17793042996, 110259.8824799636, 110275.86760854254, 110291.16430033093, 110305.80220496947, 110319.8096950688, 110333.21392122384, 110346.04086465637, 110358.31538758826, 110370.0612814435, 110381.30131297282, 110392.05726839048, 110402.34999560915, 110412.19944465502, 110421.6247063414, 110430.64404927625, 110439.2749552752, 110447.53415324913, 110455.43765163167, 110463.00076941005, 110470.23816581907, 110477.16386875609, 110483.79130197199, 110490.13331109098, 110496.20218850963, 110502.00969722348, 110507.56709362731, 110512.88514933352, 110517.97417205067, 110522.84402556276, 110527.50414884814, 110531.96357437484, 110536.230945608, 110540.31453376327, 110544.22225383866, 110547.96167995584, 110551.54006004092, 110554.9643298727, 110558.2411265261, 110561.37680123647, 110564.37743170993, 110567.2488339035, 110569.99657329793, 110572.62597568499, 110575.1421374902, 110577.54993565097, 110579.85403706934, 110582.05890765757, 110584.16882099425, 110586.18786660749, 110588.11995790148, 110589.96883974162, 110591.738095713, 110593.43115506627, 110595.05129936438, 110596.60166884305, 110598.08526849732, 110599.50497390596, 110600.86353680507, 110602.16359042161, 110603.40765457723, 110604.5981405723, 110605.73735585966, 110606.82750851693, 110607.87071152637, 110608.86898687035, 110609.82426945046, 110610.73841083777, 110611.61318286168, 110612.45028104413, 110613.25132788597, 110614.0178760117, 110614.7514111789, 110615.453355158, 110616.12506848792, 110616.76785311326, 110617.38295490768, 110617.97156608875, 110618.53482752877, 110619.07383096605, 110619.58962112095, 110620.08319772081, 110620.55551743772, 110621.00749574267, 110621.44000868007, 110621.85389456568, 110622.24995561146, 110622.62895948051, 110622.99164077493, 110623.33870245967, 110623.67081722511, 110623.9886287908, 110624.29275315322, 110624.58377977967, 110624.86227275089, 110625.12877185429, 110625.38379363026, 110625.62783237331, 110625.86136109015, 110626.0848324165, 110626.2986794944, 110626.50331681174, 110626.69914100562, 110626.8865316312, 110627.06585189729, 110627.23744937038, 110627.4016566483, 110627.5587920049, 110627.70916000687, 110627.85305210414, 110627.99074719477, 110628.12251216549, 110628.24860240899, 110628.36926231899, 110628.48472576386, 110628.59521654, 110628.70094880549, 110628.80212749532, 110628.89894871852, 110628.99160013827, 110629.08026133565, 110629.16510415774, 110629.24629305066, 110629.3239853783, 110629.3983317274, 110629.46947619933, 110629.53755668948, 110629.60270515447, 110629.66504786794, 110629.7247056653, 110629.78179417794, 110629.83642405734, 110629.88870118957, 110629.93872690048, 110629.98659815211, 110630.03240773066, 110630.07624442627, 110630.11819320517, 110630.15833537436, 110630.19674873915, 110630.23350775405, 110630.26868366699, 110630.3023446575, 110630.3345559688, 110630.36538003429, 110630.39487659853, 110630.42310283305, 110630.45011344722, 110630.47596079421, 110630.50069497248, 110630.52436392292, 110630.54701352173, 110630.56868766938, 110630.58942837565, 110630.6092758411, 110630.62826853497, 110630.64644326974, 110630.66383527248, 110630.68047825317, 110630.69640446994, 110630.7116447917, 110630.72622875794, 110630.74018463591, 110630.75353947554, 110630.76631916176, 110630.77854846472, 110630.7902510878, 110630.80144971356, 110630.81216604766, 110630.82242086098, 110630.83223402983, 110630.84162457456, 110630.85061069633, 110630.85920981244, 110630.86743859007, 110630.8753129786, 110630.88284824055, 110630.89005898107, 110630.89695917633, 110630.90356220062, 110630.9098808522, 110630.91592737816, 110630.92171349814, 110630.92725042708, 110630.93254889688, 110630.93761917726]}, {\"mode\": \"lines\", \"name\": \"theta_2\", \"type\": \"scatter\", \"y\": [0.0, 5412.368384407585, 9721.57166639987, 13107.960200418518, 15723.835441486834, 17697.754497039707, 19138.176517633885, 20136.551454038647, 20769.93635813904, 21103.211398704134, 21190.956742549395, 21079.042113755753, 20805.972931491928, 20404.030222937163, 19900.235827371904, 19317.16959440716, 18673.661201134746, 17985.375757493683, 17265.309441288035, 16524.208923498973, 15770.926242550007, 15012.719005171164, 14255.504282458494, 13504.073291115186, 12762.272866504823, 12033.158816233477, 11319.125465244346, 10622.015044452537, 9943.21001663238, 9283.710960228107, 8644.202230970359, 8025.107281612835, 7426.635232407358, 6848.820041190802, 6291.553415452246, 5754.612433796421, 5237.682696001857, 4740.377695306067, 4262.255000176465, 3802.8297427131547, 3361.585834494915, 2937.9852660179713, 2531.4757911057027, 2141.4972512753357, 1767.486755754953, 1408.8828995660901, 1065.129173904927, 735.6766991898594, 419.9863909353528, 117.53065150253798, -172.2053337078114, -449.72262931547766, -715.507856347607, -970.0327248078466, -1213.7537527146333, -1447.1121381817798, -1670.5337564315987, -1884.4292581267955, -2089.1942492081594, -2285.2095356371537, -2472.841419156118, -2652.442032470389, -2824.3497041909695, -2988.889345508317, -3146.372851943899, -3297.099514685558, -3441.3564369890682, -3579.4189519495044, -3711.55103863631, -3838.005734165333, -3959.02553976693, -4074.842819315831, -4185.6801891282885, -4291.750898115423, -4393.259197617403, -4490.400700438745, -4583.362728766777, -4672.324650788489, -4757.4582059303475, -4838.927818734683, -4916.890901458376, -4991.4981455375755, -5062.893802108145, -5131.2159518076305, -5196.596764112318, -5259.162746483762, -5319.034983614318, -5376.329367071493, -5431.156815647372, -5483.623486722549, -5533.83097895456, -5581.876526599189, -5627.853185769722, -5671.850012934524, -5713.952235947498, -5754.241417899422, -5792.795614070816, -5829.68952225931, -5864.994626746408, -5898.779336160207, -5931.109115482313, -5962.046612438662, -5991.651778505594, -6019.981984754144, -6047.092132747272, -6073.0347606966825, -6097.860145077953, -6121.616397894954, -6144.349559777048, -6166.103689085204, -6186.920947196142, -6206.8416801266985, -6225.904496654047, -6244.146343080979, -6261.602574789266, -6278.307024718223, -6294.292068899868, -6309.588689176546, -6324.226533221617, -6338.233971978743, -6351.638154630391, -6364.46506120152, -6376.7395528999195, -6388.485420290337, -6399.725429395415, -6410.481365812504, -6420.774076931579, -6430.623512335895, -6440.048762463484, -6449.068095604304, -6457.69899330457, -6465.958184246817, -6473.8616766712685, -6481.424789401225, -6488.662181532607, -6495.587880845082, -6502.215310989822, -6508.557317506549, -6514.626192720251, -6520.43369956579, -6525.991094386571, -6531.3091487514275, -6536.398170332002, -6541.268022881059, -6545.928145350437, -6550.3875701857205, -6554.654940833033, -6558.738528491902, -6562.6462481466615, -6566.385673907452, -6569.964053690545, -6573.388323266455, -6576.665119703047, -6579.800794229704, -6582.801424547494, -6585.672826609166, -6588.420565891842, -6591.049968184211, -6593.566129909184, -6595.973928001968, -6598.278029362725, -6600.482899902149, -6602.592813197471, -6604.611858775669, -6606.543950039966, -6608.392831854947, -6610.162087805012, -6611.855147140223, -6613.47529142303, -6615.025660888731, -6616.509260532008, -6617.9289659313345, -6619.287528822555, -6620.587582432406, -6621.831646582358, -6623.022132572639, -6624.161347855925, -6625.251500509743, -6626.294703516265, -6627.29297885778, -6628.2482614357905, -6629.162402821324, -6630.037174843725, -6630.874273024901, -6631.675319865651, -6632.441867990466, -6633.1754031569035, -6633.877347135342, -6634.549060464717, -6635.19184508958, -6635.806946883595, -6636.395558064325, -6636.958819504058, -6637.497822941089, -6638.013613095782, -6638.50718969548, -6638.979509412235, -6639.4314877170655, -6639.86400065436, -6640.277886539873, -6640.673947585581, -6641.052951454563, -6641.415632748926, -6641.7626944336325, -6642.094809199029, -6642.412620764684, -6642.716745127065, -6643.007771753499, -6643.286264724695, -6643.55276382808, -6643.807785604033, -6644.051824347071, -6644.285353063907, -6644.508824390251, -6644.722671468139, -6644.927308785461, -6645.123132979341, -6645.310523604914, -6645.489843870999, -6645.661441344089, -6645.8256486220125, -6645.982783978599, -6646.133151980566, -6646.277044077843, -6646.414739168471, -6646.546504139179, -6646.6725943826805, -6646.793254292676, -6646.908717737553, -6647.019208513679, -6647.124940779177, -6647.2261194690145, -6647.322940692211, -6647.415592111956, -6647.504253309339, -6647.589096131426, -6647.670285024338, -6647.747977351987, -6647.822323701084, -6647.893468173023, -6647.961548663175, -6648.026697128162, -6648.089039841628, -6648.148697638986, -6648.205786151626, -6648.260416031031, -6648.312693163259, -6648.362718874165, -6648.410590125798, -6648.456399704345, -6648.500236399959, -6648.542185178868, -6648.582327348054, -6648.62074071285, -6648.657499727747, -6648.692675640693, -6648.726336631203, -6648.758547942503, -6648.789372007986, -6648.818868572219, -6648.847094806754, -6648.874105420928, -6648.899952767914, -6648.924686946183, -6648.948355896617, -6648.971005495426, -6648.992679643068, -6649.013420349336, -6649.033267814787, -6649.052260508657, -6649.0704352434295, -6649.08782724618, -6649.104470226858, -6649.12039644363, -6649.135636765394, -6649.150220731618, -6649.164176609591, -6649.177531449215, -6649.190311135433, -6649.2025404383985, -6649.214243061489, -6649.225441687247, -6649.236158021347, -6649.246412834663, -6649.256226003527, -6649.2656165482595, -6649.2746026700315, -6649.283201786139, -6649.291430563771, -6649.299304952315, -6649.3068402142535, -6649.31405095477, -6649.320951150039, -6649.327554174324, -6649.333872825901, -6649.33991935186, -6649.345705471846, -6649.351242400774, -6649.356540870565, -6649.361611150947]}],\n",
       "                        {\"autosize\": false, \"height\": 1000, \"template\": {\"data\": {\"bar\": [{\"error_x\": {\"color\": \"#2a3f5f\"}, \"error_y\": {\"color\": \"#2a3f5f\"}, \"marker\": {\"line\": {\"color\": \"#E5ECF6\", \"width\": 0.5}}, \"type\": \"bar\"}], \"barpolar\": [{\"marker\": {\"line\": {\"color\": \"#E5ECF6\", \"width\": 0.5}}, \"type\": \"barpolar\"}], \"carpet\": [{\"aaxis\": {\"endlinecolor\": \"#2a3f5f\", \"gridcolor\": \"white\", \"linecolor\": \"white\", \"minorgridcolor\": \"white\", \"startlinecolor\": \"#2a3f5f\"}, \"baxis\": {\"endlinecolor\": \"#2a3f5f\", \"gridcolor\": \"white\", \"linecolor\": \"white\", \"minorgridcolor\": \"white\", \"startlinecolor\": \"#2a3f5f\"}, \"type\": \"carpet\"}], \"choropleth\": [{\"colorbar\": {\"outlinewidth\": 0, \"ticks\": \"\"}, \"type\": \"choropleth\"}], \"contour\": [{\"colorbar\": {\"outlinewidth\": 0, \"ticks\": \"\"}, \"colorscale\": [[0.0, \"#0d0887\"], [0.1111111111111111, \"#46039f\"], [0.2222222222222222, \"#7201a8\"], [0.3333333333333333, \"#9c179e\"], [0.4444444444444444, \"#bd3786\"], [0.5555555555555556, \"#d8576b\"], [0.6666666666666666, \"#ed7953\"], [0.7777777777777778, \"#fb9f3a\"], [0.8888888888888888, \"#fdca26\"], [1.0, \"#f0f921\"]], \"type\": \"contour\"}], \"contourcarpet\": [{\"colorbar\": {\"outlinewidth\": 0, \"ticks\": \"\"}, \"type\": \"contourcarpet\"}], \"heatmap\": [{\"colorbar\": {\"outlinewidth\": 0, \"ticks\": \"\"}, \"colorscale\": [[0.0, \"#0d0887\"], [0.1111111111111111, \"#46039f\"], [0.2222222222222222, \"#7201a8\"], [0.3333333333333333, \"#9c179e\"], [0.4444444444444444, \"#bd3786\"], [0.5555555555555556, \"#d8576b\"], [0.6666666666666666, \"#ed7953\"], [0.7777777777777778, \"#fb9f3a\"], [0.8888888888888888, \"#fdca26\"], [1.0, \"#f0f921\"]], \"type\": \"heatmap\"}], \"heatmapgl\": [{\"colorbar\": {\"outlinewidth\": 0, \"ticks\": \"\"}, \"colorscale\": [[0.0, \"#0d0887\"], [0.1111111111111111, \"#46039f\"], [0.2222222222222222, \"#7201a8\"], [0.3333333333333333, \"#9c179e\"], [0.4444444444444444, \"#bd3786\"], [0.5555555555555556, \"#d8576b\"], [0.6666666666666666, \"#ed7953\"], [0.7777777777777778, \"#fb9f3a\"], [0.8888888888888888, \"#fdca26\"], [1.0, \"#f0f921\"]], \"type\": \"heatmapgl\"}], \"histogram\": [{\"marker\": {\"colorbar\": {\"outlinewidth\": 0, \"ticks\": \"\"}}, \"type\": \"histogram\"}], \"histogram2d\": [{\"colorbar\": {\"outlinewidth\": 0, \"ticks\": \"\"}, \"colorscale\": [[0.0, \"#0d0887\"], [0.1111111111111111, \"#46039f\"], [0.2222222222222222, \"#7201a8\"], [0.3333333333333333, \"#9c179e\"], [0.4444444444444444, \"#bd3786\"], [0.5555555555555556, \"#d8576b\"], [0.6666666666666666, \"#ed7953\"], [0.7777777777777778, \"#fb9f3a\"], [0.8888888888888888, \"#fdca26\"], [1.0, \"#f0f921\"]], \"type\": \"histogram2d\"}], \"histogram2dcontour\": [{\"colorbar\": {\"outlinewidth\": 0, \"ticks\": \"\"}, \"colorscale\": [[0.0, \"#0d0887\"], [0.1111111111111111, \"#46039f\"], [0.2222222222222222, \"#7201a8\"], [0.3333333333333333, \"#9c179e\"], [0.4444444444444444, \"#bd3786\"], [0.5555555555555556, \"#d8576b\"], [0.6666666666666666, \"#ed7953\"], [0.7777777777777778, \"#fb9f3a\"], [0.8888888888888888, \"#fdca26\"], [1.0, \"#f0f921\"]], \"type\": \"histogram2dcontour\"}], \"mesh3d\": [{\"colorbar\": {\"outlinewidth\": 0, \"ticks\": \"\"}, \"type\": \"mesh3d\"}], \"parcoords\": [{\"line\": {\"colorbar\": {\"outlinewidth\": 0, \"ticks\": \"\"}}, \"type\": \"parcoords\"}], \"pie\": [{\"automargin\": true, \"type\": \"pie\"}], \"scatter\": [{\"marker\": {\"colorbar\": {\"outlinewidth\": 0, \"ticks\": \"\"}}, \"type\": \"scatter\"}], \"scatter3d\": [{\"line\": {\"colorbar\": {\"outlinewidth\": 0, \"ticks\": \"\"}}, \"marker\": {\"colorbar\": {\"outlinewidth\": 0, \"ticks\": \"\"}}, \"type\": \"scatter3d\"}], \"scattercarpet\": [{\"marker\": {\"colorbar\": {\"outlinewidth\": 0, \"ticks\": \"\"}}, \"type\": \"scattercarpet\"}], \"scattergeo\": [{\"marker\": {\"colorbar\": {\"outlinewidth\": 0, \"ticks\": \"\"}}, \"type\": \"scattergeo\"}], \"scattergl\": [{\"marker\": {\"colorbar\": {\"outlinewidth\": 0, \"ticks\": \"\"}}, \"type\": \"scattergl\"}], \"scattermapbox\": [{\"marker\": {\"colorbar\": {\"outlinewidth\": 0, \"ticks\": \"\"}}, \"type\": \"scattermapbox\"}], \"scatterpolar\": [{\"marker\": {\"colorbar\": {\"outlinewidth\": 0, \"ticks\": \"\"}}, \"type\": \"scatterpolar\"}], \"scatterpolargl\": [{\"marker\": {\"colorbar\": {\"outlinewidth\": 0, \"ticks\": \"\"}}, \"type\": \"scatterpolargl\"}], \"scatterternary\": [{\"marker\": {\"colorbar\": {\"outlinewidth\": 0, \"ticks\": \"\"}}, \"type\": \"scatterternary\"}], \"surface\": [{\"colorbar\": {\"outlinewidth\": 0, \"ticks\": \"\"}, \"colorscale\": [[0.0, \"#0d0887\"], [0.1111111111111111, \"#46039f\"], [0.2222222222222222, \"#7201a8\"], [0.3333333333333333, \"#9c179e\"], [0.4444444444444444, \"#bd3786\"], [0.5555555555555556, \"#d8576b\"], [0.6666666666666666, \"#ed7953\"], [0.7777777777777778, \"#fb9f3a\"], [0.8888888888888888, \"#fdca26\"], [1.0, \"#f0f921\"]], \"type\": \"surface\"}], \"table\": [{\"cells\": {\"fill\": {\"color\": \"#EBF0F8\"}, \"line\": {\"color\": \"white\"}}, \"header\": {\"fill\": {\"color\": \"#C8D4E3\"}, \"line\": {\"color\": \"white\"}}, \"type\": \"table\"}]}, \"layout\": {\"annotationdefaults\": {\"arrowcolor\": \"#2a3f5f\", \"arrowhead\": 0, \"arrowwidth\": 1}, \"coloraxis\": {\"colorbar\": {\"outlinewidth\": 0, \"ticks\": \"\"}}, \"colorscale\": {\"diverging\": [[0, \"#8e0152\"], [0.1, \"#c51b7d\"], [0.2, \"#de77ae\"], [0.3, \"#f1b6da\"], [0.4, \"#fde0ef\"], [0.5, \"#f7f7f7\"], [0.6, \"#e6f5d0\"], [0.7, \"#b8e186\"], [0.8, \"#7fbc41\"], [0.9, \"#4d9221\"], [1, \"#276419\"]], \"sequential\": [[0.0, \"#0d0887\"], [0.1111111111111111, \"#46039f\"], [0.2222222222222222, \"#7201a8\"], [0.3333333333333333, \"#9c179e\"], [0.4444444444444444, \"#bd3786\"], [0.5555555555555556, \"#d8576b\"], [0.6666666666666666, \"#ed7953\"], [0.7777777777777778, \"#fb9f3a\"], [0.8888888888888888, \"#fdca26\"], [1.0, \"#f0f921\"]], \"sequentialminus\": [[0.0, \"#0d0887\"], [0.1111111111111111, \"#46039f\"], [0.2222222222222222, \"#7201a8\"], [0.3333333333333333, \"#9c179e\"], [0.4444444444444444, \"#bd3786\"], [0.5555555555555556, \"#d8576b\"], [0.6666666666666666, \"#ed7953\"], [0.7777777777777778, \"#fb9f3a\"], [0.8888888888888888, \"#fdca26\"], [1.0, \"#f0f921\"]]}, \"colorway\": [\"#636efa\", \"#EF553B\", \"#00cc96\", \"#ab63fa\", \"#FFA15A\", \"#19d3f3\", \"#FF6692\", \"#B6E880\", \"#FF97FF\", \"#FECB52\"], \"font\": {\"color\": \"#2a3f5f\"}, \"geo\": {\"bgcolor\": \"white\", \"lakecolor\": \"white\", \"landcolor\": \"#E5ECF6\", \"showlakes\": true, \"showland\": true, \"subunitcolor\": \"white\"}, \"hoverlabel\": {\"align\": \"left\"}, \"hovermode\": \"closest\", \"mapbox\": {\"style\": \"light\"}, \"paper_bgcolor\": \"white\", \"plot_bgcolor\": \"#E5ECF6\", \"polar\": {\"angularaxis\": {\"gridcolor\": \"white\", \"linecolor\": \"white\", \"ticks\": \"\"}, \"bgcolor\": \"#E5ECF6\", \"radialaxis\": {\"gridcolor\": \"white\", \"linecolor\": \"white\", \"ticks\": \"\"}}, \"scene\": {\"xaxis\": {\"backgroundcolor\": \"#E5ECF6\", \"gridcolor\": \"white\", \"gridwidth\": 2, \"linecolor\": \"white\", \"showbackground\": true, \"ticks\": \"\", \"zerolinecolor\": \"white\"}, \"yaxis\": {\"backgroundcolor\": \"#E5ECF6\", \"gridcolor\": \"white\", \"gridwidth\": 2, \"linecolor\": \"white\", \"showbackground\": true, \"ticks\": \"\", \"zerolinecolor\": \"white\"}, \"zaxis\": {\"backgroundcolor\": \"#E5ECF6\", \"gridcolor\": \"white\", \"gridwidth\": 2, \"linecolor\": \"white\", \"showbackground\": true, \"ticks\": \"\", \"zerolinecolor\": \"white\"}}, \"shapedefaults\": {\"line\": {\"color\": \"#2a3f5f\"}}, \"ternary\": {\"aaxis\": {\"gridcolor\": \"white\", \"linecolor\": \"white\", \"ticks\": \"\"}, \"baxis\": {\"gridcolor\": \"white\", \"linecolor\": \"white\", \"ticks\": \"\"}, \"bgcolor\": \"#E5ECF6\", \"caxis\": {\"gridcolor\": \"white\", \"linecolor\": \"white\", \"ticks\": \"\"}}, \"title\": {\"x\": 0.05}, \"xaxis\": {\"automargin\": true, \"gridcolor\": \"white\", \"linecolor\": \"white\", \"ticks\": \"\", \"title\": {\"standoff\": 15}, \"zerolinecolor\": \"white\", \"zerolinewidth\": 2}, \"yaxis\": {\"automargin\": true, \"gridcolor\": \"white\", \"linecolor\": \"white\", \"ticks\": \"\", \"title\": {\"standoff\": 15}, \"zerolinecolor\": \"white\", \"zerolinewidth\": 2}}}, \"width\": 1000, \"xaxis\": {\"title\": {\"text\": \"Number of iterations\"}}, \"yaxis\": {\"title\": {\"text\": \"theta value\"}}},\n",
       "                        {\"responsive\": true}\n",
       "                    ).then(function(){\n",
       "                            \n",
       "var gd = document.getElementById('513263ab-dd9f-4828-b25c-a8230cfbc276');\n",
       "var x = new MutationObserver(function (mutations, observer) {{\n",
       "        var display = window.getComputedStyle(gd).display;\n",
       "        if (!display || display === 'none') {{\n",
       "            console.log([gd, 'removed!']);\n",
       "            Plotly.purge(gd);\n",
       "            observer.disconnect();\n",
       "        }}\n",
       "}});\n",
       "\n",
       "// Listen for the removal of the full notebook cells\n",
       "var notebookContainer = gd.closest('#notebook-container');\n",
       "if (notebookContainer) {{\n",
       "    x.observe(notebookContainer, {childList: true});\n",
       "}}\n",
       "\n",
       "// Listen for the clearing of the current output cell\n",
       "var outputEl = gd.closest('.output');\n",
       "if (outputEl) {{\n",
       "    x.observe(outputEl, {childList: true});\n",
       "}}\n",
       "\n",
       "                        })\n",
       "                };\n",
       "                });\n",
       "            </script>\n",
       "        </div>"
      ]
     },
     "metadata": {},
     "output_type": "display_data"
    }
   ],
   "source": [
    "fig3 = go.Figure()\n",
    "\n",
    "layout = go.Layout( autosize=False,\n",
    "                    width=1000,\n",
    "                    height=1000,\n",
    "                    xaxis = dict( title_text = \"Number of iterations\"),\n",
    "                    yaxis = dict( title_text = \"theta value\") )\n",
    "\n",
    "trace_theta0 = go.Scatter(name='theta_0', y = theta_history[:,0], mode='lines' )\n",
    "trace_theta1 = go.Scatter(name='theta_1', y = theta_history[:,1], mode='lines' )\n",
    "trace_theta2 = go.Scatter(name='theta_2', y = theta_history[:,2], mode='lines' )\n",
    "\n",
    "fig3.layout = layout\n",
    "fig3.add_trace( trace_theta0  )\n",
    "fig3.add_trace( trace_theta1 )\n",
    "fig3.add_trace( trace_theta2 )"
   ]
  },
  {
   "cell_type": "code",
   "execution_count": null,
   "metadata": {},
   "outputs": [],
   "source": []
  },
  {
   "cell_type": "code",
   "execution_count": null,
   "metadata": {},
   "outputs": [],
   "source": []
  }
 ],
 "metadata": {
  "kernelspec": {
   "display_name": "Python 3",
   "language": "python",
   "name": "python3"
  },
  "language_info": {
   "codemirror_mode": {
    "name": "ipython",
    "version": 3
   },
   "file_extension": ".py",
   "mimetype": "text/x-python",
   "name": "python",
   "nbconvert_exporter": "python",
   "pygments_lexer": "ipython3",
   "version": "3.7.6"
  }
 },
 "nbformat": 4,
 "nbformat_minor": 4
}
